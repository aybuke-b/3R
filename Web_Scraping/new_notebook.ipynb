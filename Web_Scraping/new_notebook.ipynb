{
 "cells": [
  {
   "cell_type": "code",
   "execution_count": 39,
   "metadata": {},
   "outputs": [],
   "source": [
    "from script.scraper_functions import *\n",
    "from script.soupifier import *\n",
    "from serde.json import to_json\n",
    "import numpy as np\n",
    "from itertools import chain\n",
    "from yarl import URL"
   ]
  },
  {
   "cell_type": "markdown",
   "metadata": {},
   "source": [
    "**TODO**:\n",
    "\n",
    "- `ruff` $\\Rightarrow$ linter, à utiliser plus dans le cadre du dvpt\n",
    "- `pytest` avec subprocess.run pour tester le code\n",
    "- `pytest-coverage`\n",
    "- `poetry` avec gestion des dépendances\n",
    "- `black` pour automatiquement indenter, etc.\n",
    "- `doctest` pour tester les exemples des docstrings\n",
    "- `bandit` pour gérer les vulnérabilités\n",
    "\n",
    "***\n",
    "\n",
    "- `yarl` pour travailler avec des URL"
   ]
  },
  {
   "cell_type": "markdown",
   "metadata": {},
   "source": [
    "## Le code ci-dessous lance le `scraper`\n",
    "\n",
    "- Tu peux changer le nombre d'*URL* de **19** à 1 ou 2 pour tester ça prendra beaucoup moins longtemps à générer\n",
    "- Lien [`Darty`](https://www.darty.com/nav/extra/list?seller=311289-0-327183-311290-311291-328771-311452&cat=89054&state=new_offer&persist_sold_by_darty=true) $\\Rightarrow$ en choisissant les produits uniquement vendus par Darty + Neufs on a 567 produits.\n",
    "- Avoir un comparatif Boulanger/Darty pourrait être intéressant\n",
    "- Voir pour récupérer les images des téléphones pour plus tard dans l'appli - voir : https://discuss.streamlit.io/t/add-image-and-header-to-streamlit-dataframe-table/36065/3"
   ]
  },
  {
   "cell_type": "code",
   "execution_count": 40,
   "metadata": {},
   "outputs": [],
   "source": [
    "URL = \"https://boulanger.com/c/nav-filtre/smartphone-telephone-portable?_etat_produit~neuf\""
   ]
  },
  {
   "cell_type": "code",
   "execution_count": 41,
   "metadata": {},
   "outputs": [
    {
     "name": "stdout",
     "output_type": "stream",
     "text": [
      "Page 1 -> Successfull Extraction.\n",
      "Page 2 -> Successfull Extraction.\n"
     ]
    },
    {
     "ename": "KeyboardInterrupt",
     "evalue": "",
     "output_type": "error",
     "traceback": [
      "\u001b[1;31m---------------------------------------------------------------------------\u001b[0m",
      "\u001b[1;31mKeyboardInterrupt\u001b[0m                         Traceback (most recent call last)",
      "Cell \u001b[1;32mIn [41], line 3\u001b[0m\n\u001b[0;32m      1\u001b[0m session \u001b[38;5;241m=\u001b[39m create_session()\n\u001b[0;32m      2\u001b[0m url_list \u001b[38;5;241m=\u001b[39m create_url_list(URL, \u001b[38;5;241m4\u001b[39m)\n\u001b[1;32m----> 3\u001b[0m pages \u001b[38;5;241m=\u001b[39m \u001b[43mread_pages\u001b[49m\u001b[43m(\u001b[49m\u001b[43murl_list\u001b[49m\u001b[38;5;241;43m=\u001b[39;49m\u001b[43murl_list\u001b[49m\u001b[43m,\u001b[49m\u001b[43m \u001b[49m\u001b[43msession\u001b[49m\u001b[38;5;241;43m=\u001b[39;49m\u001b[43msession\u001b[49m\u001b[43m)\u001b[49m\n",
      "File \u001b[1;32md:\\Cours Mecen (M2)\\3R\\Web_Scraping\\script\\custom_decorators.py:25\u001b[0m, in \u001b[0;36mtimer.<locals>.wrapper\u001b[1;34m(*args, **kwargs)\u001b[0m\n\u001b[0;32m     23\u001b[0m \u001b[38;5;28;01mdef\u001b[39;00m \u001b[38;5;21mwrapper\u001b[39m(\u001b[38;5;241m*\u001b[39margs, \u001b[38;5;241m*\u001b[39m\u001b[38;5;241m*\u001b[39mkwargs):\n\u001b[0;32m     24\u001b[0m     start_time \u001b[38;5;241m=\u001b[39m time\u001b[38;5;241m.\u001b[39mtime()\n\u001b[1;32m---> 25\u001b[0m     result \u001b[38;5;241m=\u001b[39m func(\u001b[38;5;241m*\u001b[39margs, \u001b[38;5;241m*\u001b[39m\u001b[38;5;241m*\u001b[39mkwargs)\n\u001b[0;32m     26\u001b[0m     end_time \u001b[38;5;241m=\u001b[39m time\u001b[38;5;241m.\u001b[39mtime()\n\u001b[0;32m     27\u001b[0m     elapsed_time \u001b[38;5;241m=\u001b[39m end_time \u001b[38;5;241m-\u001b[39m start_time\n",
      "File \u001b[1;32md:\\Cours Mecen (M2)\\3R\\Web_Scraping\\script\\scraper_functions.py:75\u001b[0m, in \u001b[0;36mread_pages\u001b[1;34m(url_list, session)\u001b[0m\n\u001b[0;32m     73\u001b[0m \u001b[38;5;28;01mfor\u001b[39;00m page_number, url \u001b[38;5;129;01min\u001b[39;00m \u001b[38;5;28menumerate\u001b[39m(url_list):\n\u001b[0;32m     74\u001b[0m     random_timer()\n\u001b[1;32m---> 75\u001b[0m     response \u001b[38;5;241m=\u001b[39m \u001b[43msession\u001b[49m\u001b[38;5;241;43m.\u001b[39;49m\u001b[43mget\u001b[49m\u001b[43m(\u001b[49m\u001b[43murl\u001b[49m\u001b[43m)\u001b[49m\n\u001b[0;32m     76\u001b[0m     content \u001b[38;5;241m=\u001b[39m response\u001b[38;5;241m.\u001b[39mtext\n\u001b[0;32m     77\u001b[0m     list_pages\u001b[38;5;241m.\u001b[39mappend(content)\n",
      "File \u001b[1;32mc:\\Users\\tcrsm\\AppData\\Local\\Programs\\Python\\Python310\\lib\\site-packages\\requests\\sessions.py:600\u001b[0m, in \u001b[0;36mSession.get\u001b[1;34m(self, url, **kwargs)\u001b[0m\n\u001b[0;32m    592\u001b[0m \u001b[38;5;250m\u001b[39m\u001b[38;5;124mr\u001b[39m\u001b[38;5;124;03m\"\"\"Sends a GET request. Returns :class:`Response` object.\u001b[39;00m\n\u001b[0;32m    593\u001b[0m \n\u001b[0;32m    594\u001b[0m \u001b[38;5;124;03m:param url: URL for the new :class:`Request` object.\u001b[39;00m\n\u001b[0;32m    595\u001b[0m \u001b[38;5;124;03m:param \\*\\*kwargs: Optional arguments that ``request`` takes.\u001b[39;00m\n\u001b[0;32m    596\u001b[0m \u001b[38;5;124;03m:rtype: requests.Response\u001b[39;00m\n\u001b[0;32m    597\u001b[0m \u001b[38;5;124;03m\"\"\"\u001b[39;00m\n\u001b[0;32m    599\u001b[0m kwargs\u001b[38;5;241m.\u001b[39msetdefault(\u001b[38;5;124m\"\u001b[39m\u001b[38;5;124mallow_redirects\u001b[39m\u001b[38;5;124m\"\u001b[39m, \u001b[38;5;28;01mTrue\u001b[39;00m)\n\u001b[1;32m--> 600\u001b[0m \u001b[38;5;28;01mreturn\u001b[39;00m \u001b[38;5;28mself\u001b[39m\u001b[38;5;241m.\u001b[39mrequest(\u001b[38;5;124m\"\u001b[39m\u001b[38;5;124mGET\u001b[39m\u001b[38;5;124m\"\u001b[39m, url, \u001b[38;5;241m*\u001b[39m\u001b[38;5;241m*\u001b[39mkwargs)\n",
      "File \u001b[1;32mc:\\Users\\tcrsm\\AppData\\Local\\Programs\\Python\\Python310\\lib\\site-packages\\requests\\sessions.py:587\u001b[0m, in \u001b[0;36mSession.request\u001b[1;34m(self, method, url, params, data, headers, cookies, files, auth, timeout, allow_redirects, proxies, hooks, stream, verify, cert, json)\u001b[0m\n\u001b[0;32m    582\u001b[0m send_kwargs \u001b[38;5;241m=\u001b[39m {\n\u001b[0;32m    583\u001b[0m     \u001b[38;5;124m\"\u001b[39m\u001b[38;5;124mtimeout\u001b[39m\u001b[38;5;124m\"\u001b[39m: timeout,\n\u001b[0;32m    584\u001b[0m     \u001b[38;5;124m\"\u001b[39m\u001b[38;5;124mallow_redirects\u001b[39m\u001b[38;5;124m\"\u001b[39m: allow_redirects,\n\u001b[0;32m    585\u001b[0m }\n\u001b[0;32m    586\u001b[0m send_kwargs\u001b[38;5;241m.\u001b[39mupdate(settings)\n\u001b[1;32m--> 587\u001b[0m resp \u001b[38;5;241m=\u001b[39m \u001b[38;5;28mself\u001b[39m\u001b[38;5;241m.\u001b[39msend(prep, \u001b[38;5;241m*\u001b[39m\u001b[38;5;241m*\u001b[39msend_kwargs)\n\u001b[0;32m    589\u001b[0m \u001b[38;5;28;01mreturn\u001b[39;00m resp\n",
      "File \u001b[1;32mc:\\Users\\tcrsm\\AppData\\Local\\Programs\\Python\\Python310\\lib\\site-packages\\requests\\sessions.py:701\u001b[0m, in \u001b[0;36mSession.send\u001b[1;34m(self, request, **kwargs)\u001b[0m\n\u001b[0;32m    698\u001b[0m start \u001b[38;5;241m=\u001b[39m preferred_clock()\n\u001b[0;32m    700\u001b[0m \u001b[38;5;66;03m# Send the request\u001b[39;00m\n\u001b[1;32m--> 701\u001b[0m r \u001b[38;5;241m=\u001b[39m adapter\u001b[38;5;241m.\u001b[39msend(request, \u001b[38;5;241m*\u001b[39m\u001b[38;5;241m*\u001b[39mkwargs)\n\u001b[0;32m    703\u001b[0m \u001b[38;5;66;03m# Total elapsed time of the request (approximately)\u001b[39;00m\n\u001b[0;32m    704\u001b[0m elapsed \u001b[38;5;241m=\u001b[39m preferred_clock() \u001b[38;5;241m-\u001b[39m start\n",
      "File \u001b[1;32mc:\\Users\\tcrsm\\AppData\\Local\\Programs\\Python\\Python310\\lib\\site-packages\\requests\\adapters.py:489\u001b[0m, in \u001b[0;36mHTTPAdapter.send\u001b[1;34m(self, request, stream, timeout, verify, cert, proxies)\u001b[0m\n\u001b[0;32m    487\u001b[0m \u001b[38;5;28;01mtry\u001b[39;00m:\n\u001b[0;32m    488\u001b[0m     \u001b[38;5;28;01mif\u001b[39;00m \u001b[38;5;129;01mnot\u001b[39;00m chunked:\n\u001b[1;32m--> 489\u001b[0m         resp \u001b[38;5;241m=\u001b[39m \u001b[43mconn\u001b[49m\u001b[38;5;241;43m.\u001b[39;49m\u001b[43murlopen\u001b[49m\u001b[43m(\u001b[49m\n\u001b[0;32m    490\u001b[0m \u001b[43m            \u001b[49m\u001b[43mmethod\u001b[49m\u001b[38;5;241;43m=\u001b[39;49m\u001b[43mrequest\u001b[49m\u001b[38;5;241;43m.\u001b[39;49m\u001b[43mmethod\u001b[49m\u001b[43m,\u001b[49m\n\u001b[0;32m    491\u001b[0m \u001b[43m            \u001b[49m\u001b[43murl\u001b[49m\u001b[38;5;241;43m=\u001b[39;49m\u001b[43murl\u001b[49m\u001b[43m,\u001b[49m\n\u001b[0;32m    492\u001b[0m \u001b[43m            \u001b[49m\u001b[43mbody\u001b[49m\u001b[38;5;241;43m=\u001b[39;49m\u001b[43mrequest\u001b[49m\u001b[38;5;241;43m.\u001b[39;49m\u001b[43mbody\u001b[49m\u001b[43m,\u001b[49m\n\u001b[0;32m    493\u001b[0m \u001b[43m            \u001b[49m\u001b[43mheaders\u001b[49m\u001b[38;5;241;43m=\u001b[39;49m\u001b[43mrequest\u001b[49m\u001b[38;5;241;43m.\u001b[39;49m\u001b[43mheaders\u001b[49m\u001b[43m,\u001b[49m\n\u001b[0;32m    494\u001b[0m \u001b[43m            \u001b[49m\u001b[43mredirect\u001b[49m\u001b[38;5;241;43m=\u001b[39;49m\u001b[38;5;28;43;01mFalse\u001b[39;49;00m\u001b[43m,\u001b[49m\n\u001b[0;32m    495\u001b[0m \u001b[43m            \u001b[49m\u001b[43massert_same_host\u001b[49m\u001b[38;5;241;43m=\u001b[39;49m\u001b[38;5;28;43;01mFalse\u001b[39;49;00m\u001b[43m,\u001b[49m\n\u001b[0;32m    496\u001b[0m \u001b[43m            \u001b[49m\u001b[43mpreload_content\u001b[49m\u001b[38;5;241;43m=\u001b[39;49m\u001b[38;5;28;43;01mFalse\u001b[39;49;00m\u001b[43m,\u001b[49m\n\u001b[0;32m    497\u001b[0m \u001b[43m            \u001b[49m\u001b[43mdecode_content\u001b[49m\u001b[38;5;241;43m=\u001b[39;49m\u001b[38;5;28;43;01mFalse\u001b[39;49;00m\u001b[43m,\u001b[49m\n\u001b[0;32m    498\u001b[0m \u001b[43m            \u001b[49m\u001b[43mretries\u001b[49m\u001b[38;5;241;43m=\u001b[39;49m\u001b[38;5;28;43mself\u001b[39;49m\u001b[38;5;241;43m.\u001b[39;49m\u001b[43mmax_retries\u001b[49m\u001b[43m,\u001b[49m\n\u001b[0;32m    499\u001b[0m \u001b[43m            \u001b[49m\u001b[43mtimeout\u001b[49m\u001b[38;5;241;43m=\u001b[39;49m\u001b[43mtimeout\u001b[49m\u001b[43m,\u001b[49m\n\u001b[0;32m    500\u001b[0m \u001b[43m        \u001b[49m\u001b[43m)\u001b[49m\n\u001b[0;32m    502\u001b[0m     \u001b[38;5;66;03m# Send the request.\u001b[39;00m\n\u001b[0;32m    503\u001b[0m     \u001b[38;5;28;01melse\u001b[39;00m:\n\u001b[0;32m    504\u001b[0m         \u001b[38;5;28;01mif\u001b[39;00m \u001b[38;5;28mhasattr\u001b[39m(conn, \u001b[38;5;124m\"\u001b[39m\u001b[38;5;124mproxy_pool\u001b[39m\u001b[38;5;124m\"\u001b[39m):\n",
      "File \u001b[1;32mc:\\Users\\tcrsm\\AppData\\Local\\Programs\\Python\\Python310\\lib\\site-packages\\urllib3\\connectionpool.py:703\u001b[0m, in \u001b[0;36mHTTPConnectionPool.urlopen\u001b[1;34m(self, method, url, body, headers, retries, redirect, assert_same_host, timeout, pool_timeout, release_conn, chunked, body_pos, **response_kw)\u001b[0m\n\u001b[0;32m    700\u001b[0m     \u001b[38;5;28mself\u001b[39m\u001b[38;5;241m.\u001b[39m_prepare_proxy(conn)\n\u001b[0;32m    702\u001b[0m \u001b[38;5;66;03m# Make the request on the httplib connection object.\u001b[39;00m\n\u001b[1;32m--> 703\u001b[0m httplib_response \u001b[38;5;241m=\u001b[39m \u001b[38;5;28;43mself\u001b[39;49m\u001b[38;5;241;43m.\u001b[39;49m\u001b[43m_make_request\u001b[49m\u001b[43m(\u001b[49m\n\u001b[0;32m    704\u001b[0m \u001b[43m    \u001b[49m\u001b[43mconn\u001b[49m\u001b[43m,\u001b[49m\n\u001b[0;32m    705\u001b[0m \u001b[43m    \u001b[49m\u001b[43mmethod\u001b[49m\u001b[43m,\u001b[49m\n\u001b[0;32m    706\u001b[0m \u001b[43m    \u001b[49m\u001b[43murl\u001b[49m\u001b[43m,\u001b[49m\n\u001b[0;32m    707\u001b[0m \u001b[43m    \u001b[49m\u001b[43mtimeout\u001b[49m\u001b[38;5;241;43m=\u001b[39;49m\u001b[43mtimeout_obj\u001b[49m\u001b[43m,\u001b[49m\n\u001b[0;32m    708\u001b[0m \u001b[43m    \u001b[49m\u001b[43mbody\u001b[49m\u001b[38;5;241;43m=\u001b[39;49m\u001b[43mbody\u001b[49m\u001b[43m,\u001b[49m\n\u001b[0;32m    709\u001b[0m \u001b[43m    \u001b[49m\u001b[43mheaders\u001b[49m\u001b[38;5;241;43m=\u001b[39;49m\u001b[43mheaders\u001b[49m\u001b[43m,\u001b[49m\n\u001b[0;32m    710\u001b[0m \u001b[43m    \u001b[49m\u001b[43mchunked\u001b[49m\u001b[38;5;241;43m=\u001b[39;49m\u001b[43mchunked\u001b[49m\u001b[43m,\u001b[49m\n\u001b[0;32m    711\u001b[0m \u001b[43m\u001b[49m\u001b[43m)\u001b[49m\n\u001b[0;32m    713\u001b[0m \u001b[38;5;66;03m# If we're going to release the connection in ``finally:``, then\u001b[39;00m\n\u001b[0;32m    714\u001b[0m \u001b[38;5;66;03m# the response doesn't need to know about the connection. Otherwise\u001b[39;00m\n\u001b[0;32m    715\u001b[0m \u001b[38;5;66;03m# it will also try to release it and we'll have a double-release\u001b[39;00m\n\u001b[0;32m    716\u001b[0m \u001b[38;5;66;03m# mess.\u001b[39;00m\n\u001b[0;32m    717\u001b[0m response_conn \u001b[38;5;241m=\u001b[39m conn \u001b[38;5;28;01mif\u001b[39;00m \u001b[38;5;129;01mnot\u001b[39;00m release_conn \u001b[38;5;28;01melse\u001b[39;00m \u001b[38;5;28;01mNone\u001b[39;00m\n",
      "File \u001b[1;32mc:\\Users\\tcrsm\\AppData\\Local\\Programs\\Python\\Python310\\lib\\site-packages\\urllib3\\connectionpool.py:386\u001b[0m, in \u001b[0;36mHTTPConnectionPool._make_request\u001b[1;34m(self, conn, method, url, timeout, chunked, **httplib_request_kw)\u001b[0m\n\u001b[0;32m    384\u001b[0m \u001b[38;5;66;03m# Trigger any extra validation we need to do.\u001b[39;00m\n\u001b[0;32m    385\u001b[0m \u001b[38;5;28;01mtry\u001b[39;00m:\n\u001b[1;32m--> 386\u001b[0m     \u001b[38;5;28;43mself\u001b[39;49m\u001b[38;5;241;43m.\u001b[39;49m\u001b[43m_validate_conn\u001b[49m\u001b[43m(\u001b[49m\u001b[43mconn\u001b[49m\u001b[43m)\u001b[49m\n\u001b[0;32m    387\u001b[0m \u001b[38;5;28;01mexcept\u001b[39;00m (SocketTimeout, BaseSSLError) \u001b[38;5;28;01mas\u001b[39;00m e:\n\u001b[0;32m    388\u001b[0m     \u001b[38;5;66;03m# Py2 raises this as a BaseSSLError, Py3 raises it as socket timeout.\u001b[39;00m\n\u001b[0;32m    389\u001b[0m     \u001b[38;5;28mself\u001b[39m\u001b[38;5;241m.\u001b[39m_raise_timeout(err\u001b[38;5;241m=\u001b[39me, url\u001b[38;5;241m=\u001b[39murl, timeout_value\u001b[38;5;241m=\u001b[39mconn\u001b[38;5;241m.\u001b[39mtimeout)\n",
      "File \u001b[1;32mc:\\Users\\tcrsm\\AppData\\Local\\Programs\\Python\\Python310\\lib\\site-packages\\urllib3\\connectionpool.py:1042\u001b[0m, in \u001b[0;36mHTTPSConnectionPool._validate_conn\u001b[1;34m(self, conn)\u001b[0m\n\u001b[0;32m   1040\u001b[0m \u001b[38;5;66;03m# Force connect early to allow us to validate the connection.\u001b[39;00m\n\u001b[0;32m   1041\u001b[0m \u001b[38;5;28;01mif\u001b[39;00m \u001b[38;5;129;01mnot\u001b[39;00m \u001b[38;5;28mgetattr\u001b[39m(conn, \u001b[38;5;124m\"\u001b[39m\u001b[38;5;124msock\u001b[39m\u001b[38;5;124m\"\u001b[39m, \u001b[38;5;28;01mNone\u001b[39;00m):  \u001b[38;5;66;03m# AppEngine might not have  `.sock`\u001b[39;00m\n\u001b[1;32m-> 1042\u001b[0m     \u001b[43mconn\u001b[49m\u001b[38;5;241;43m.\u001b[39;49m\u001b[43mconnect\u001b[49m\u001b[43m(\u001b[49m\u001b[43m)\u001b[49m\n\u001b[0;32m   1044\u001b[0m \u001b[38;5;28;01mif\u001b[39;00m \u001b[38;5;129;01mnot\u001b[39;00m conn\u001b[38;5;241m.\u001b[39mis_verified:\n\u001b[0;32m   1045\u001b[0m     warnings\u001b[38;5;241m.\u001b[39mwarn(\n\u001b[0;32m   1046\u001b[0m         (\n\u001b[0;32m   1047\u001b[0m             \u001b[38;5;124m\"\u001b[39m\u001b[38;5;124mUnverified HTTPS request is being made to host \u001b[39m\u001b[38;5;124m'\u001b[39m\u001b[38;5;132;01m%s\u001b[39;00m\u001b[38;5;124m'\u001b[39m\u001b[38;5;124m. \u001b[39m\u001b[38;5;124m\"\u001b[39m\n\u001b[1;32m   (...)\u001b[0m\n\u001b[0;32m   1052\u001b[0m         InsecureRequestWarning,\n\u001b[0;32m   1053\u001b[0m     )\n",
      "File \u001b[1;32mc:\\Users\\tcrsm\\AppData\\Local\\Programs\\Python\\Python310\\lib\\site-packages\\urllib3\\connection.py:414\u001b[0m, in \u001b[0;36mHTTPSConnection.connect\u001b[1;34m(self)\u001b[0m\n\u001b[0;32m    405\u001b[0m \u001b[38;5;28;01mif\u001b[39;00m (\n\u001b[0;32m    406\u001b[0m     \u001b[38;5;129;01mnot\u001b[39;00m \u001b[38;5;28mself\u001b[39m\u001b[38;5;241m.\u001b[39mca_certs\n\u001b[0;32m    407\u001b[0m     \u001b[38;5;129;01mand\u001b[39;00m \u001b[38;5;129;01mnot\u001b[39;00m \u001b[38;5;28mself\u001b[39m\u001b[38;5;241m.\u001b[39mca_cert_dir\n\u001b[1;32m   (...)\u001b[0m\n\u001b[0;32m    410\u001b[0m     \u001b[38;5;129;01mand\u001b[39;00m \u001b[38;5;28mhasattr\u001b[39m(context, \u001b[38;5;124m\"\u001b[39m\u001b[38;5;124mload_default_certs\u001b[39m\u001b[38;5;124m\"\u001b[39m)\n\u001b[0;32m    411\u001b[0m ):\n\u001b[0;32m    412\u001b[0m     context\u001b[38;5;241m.\u001b[39mload_default_certs()\n\u001b[1;32m--> 414\u001b[0m \u001b[38;5;28mself\u001b[39m\u001b[38;5;241m.\u001b[39msock \u001b[38;5;241m=\u001b[39m \u001b[43mssl_wrap_socket\u001b[49m\u001b[43m(\u001b[49m\n\u001b[0;32m    415\u001b[0m \u001b[43m    \u001b[49m\u001b[43msock\u001b[49m\u001b[38;5;241;43m=\u001b[39;49m\u001b[43mconn\u001b[49m\u001b[43m,\u001b[49m\n\u001b[0;32m    416\u001b[0m \u001b[43m    \u001b[49m\u001b[43mkeyfile\u001b[49m\u001b[38;5;241;43m=\u001b[39;49m\u001b[38;5;28;43mself\u001b[39;49m\u001b[38;5;241;43m.\u001b[39;49m\u001b[43mkey_file\u001b[49m\u001b[43m,\u001b[49m\n\u001b[0;32m    417\u001b[0m \u001b[43m    \u001b[49m\u001b[43mcertfile\u001b[49m\u001b[38;5;241;43m=\u001b[39;49m\u001b[38;5;28;43mself\u001b[39;49m\u001b[38;5;241;43m.\u001b[39;49m\u001b[43mcert_file\u001b[49m\u001b[43m,\u001b[49m\n\u001b[0;32m    418\u001b[0m \u001b[43m    \u001b[49m\u001b[43mkey_password\u001b[49m\u001b[38;5;241;43m=\u001b[39;49m\u001b[38;5;28;43mself\u001b[39;49m\u001b[38;5;241;43m.\u001b[39;49m\u001b[43mkey_password\u001b[49m\u001b[43m,\u001b[49m\n\u001b[0;32m    419\u001b[0m \u001b[43m    \u001b[49m\u001b[43mca_certs\u001b[49m\u001b[38;5;241;43m=\u001b[39;49m\u001b[38;5;28;43mself\u001b[39;49m\u001b[38;5;241;43m.\u001b[39;49m\u001b[43mca_certs\u001b[49m\u001b[43m,\u001b[49m\n\u001b[0;32m    420\u001b[0m \u001b[43m    \u001b[49m\u001b[43mca_cert_dir\u001b[49m\u001b[38;5;241;43m=\u001b[39;49m\u001b[38;5;28;43mself\u001b[39;49m\u001b[38;5;241;43m.\u001b[39;49m\u001b[43mca_cert_dir\u001b[49m\u001b[43m,\u001b[49m\n\u001b[0;32m    421\u001b[0m \u001b[43m    \u001b[49m\u001b[43mca_cert_data\u001b[49m\u001b[38;5;241;43m=\u001b[39;49m\u001b[38;5;28;43mself\u001b[39;49m\u001b[38;5;241;43m.\u001b[39;49m\u001b[43mca_cert_data\u001b[49m\u001b[43m,\u001b[49m\n\u001b[0;32m    422\u001b[0m \u001b[43m    \u001b[49m\u001b[43mserver_hostname\u001b[49m\u001b[38;5;241;43m=\u001b[39;49m\u001b[43mserver_hostname\u001b[49m\u001b[43m,\u001b[49m\n\u001b[0;32m    423\u001b[0m \u001b[43m    \u001b[49m\u001b[43mssl_context\u001b[49m\u001b[38;5;241;43m=\u001b[39;49m\u001b[43mcontext\u001b[49m\u001b[43m,\u001b[49m\n\u001b[0;32m    424\u001b[0m \u001b[43m    \u001b[49m\u001b[43mtls_in_tls\u001b[49m\u001b[38;5;241;43m=\u001b[39;49m\u001b[43mtls_in_tls\u001b[49m\u001b[43m,\u001b[49m\n\u001b[0;32m    425\u001b[0m \u001b[43m\u001b[49m\u001b[43m)\u001b[49m\n\u001b[0;32m    427\u001b[0m \u001b[38;5;66;03m# If we're using all defaults and the connection\u001b[39;00m\n\u001b[0;32m    428\u001b[0m \u001b[38;5;66;03m# is TLSv1 or TLSv1.1 we throw a DeprecationWarning\u001b[39;00m\n\u001b[0;32m    429\u001b[0m \u001b[38;5;66;03m# for the host.\u001b[39;00m\n\u001b[0;32m    430\u001b[0m \u001b[38;5;28;01mif\u001b[39;00m (\n\u001b[0;32m    431\u001b[0m     default_ssl_context\n\u001b[0;32m    432\u001b[0m     \u001b[38;5;129;01mand\u001b[39;00m \u001b[38;5;28mself\u001b[39m\u001b[38;5;241m.\u001b[39mssl_version \u001b[38;5;129;01mis\u001b[39;00m \u001b[38;5;28;01mNone\u001b[39;00m\n\u001b[0;32m    433\u001b[0m     \u001b[38;5;129;01mand\u001b[39;00m \u001b[38;5;28mhasattr\u001b[39m(\u001b[38;5;28mself\u001b[39m\u001b[38;5;241m.\u001b[39msock, \u001b[38;5;124m\"\u001b[39m\u001b[38;5;124mversion\u001b[39m\u001b[38;5;124m\"\u001b[39m)\n\u001b[0;32m    434\u001b[0m     \u001b[38;5;129;01mand\u001b[39;00m \u001b[38;5;28mself\u001b[39m\u001b[38;5;241m.\u001b[39msock\u001b[38;5;241m.\u001b[39mversion() \u001b[38;5;129;01min\u001b[39;00m {\u001b[38;5;124m\"\u001b[39m\u001b[38;5;124mTLSv1\u001b[39m\u001b[38;5;124m\"\u001b[39m, \u001b[38;5;124m\"\u001b[39m\u001b[38;5;124mTLSv1.1\u001b[39m\u001b[38;5;124m\"\u001b[39m}\n\u001b[0;32m    435\u001b[0m ):\n",
      "File \u001b[1;32mc:\\Users\\tcrsm\\AppData\\Local\\Programs\\Python\\Python310\\lib\\site-packages\\urllib3\\util\\ssl_.py:449\u001b[0m, in \u001b[0;36mssl_wrap_socket\u001b[1;34m(sock, keyfile, certfile, cert_reqs, ca_certs, server_hostname, ssl_version, ciphers, ssl_context, ca_cert_dir, key_password, ca_cert_data, tls_in_tls)\u001b[0m\n\u001b[0;32m    437\u001b[0m     warnings\u001b[38;5;241m.\u001b[39mwarn(\n\u001b[0;32m    438\u001b[0m         \u001b[38;5;124m\"\u001b[39m\u001b[38;5;124mAn HTTPS request has been made, but the SNI (Server Name \u001b[39m\u001b[38;5;124m\"\u001b[39m\n\u001b[0;32m    439\u001b[0m         \u001b[38;5;124m\"\u001b[39m\u001b[38;5;124mIndication) extension to TLS is not available on this platform. \u001b[39m\u001b[38;5;124m\"\u001b[39m\n\u001b[1;32m   (...)\u001b[0m\n\u001b[0;32m    445\u001b[0m         SNIMissingWarning,\n\u001b[0;32m    446\u001b[0m     )\n\u001b[0;32m    448\u001b[0m \u001b[38;5;28;01mif\u001b[39;00m send_sni:\n\u001b[1;32m--> 449\u001b[0m     ssl_sock \u001b[38;5;241m=\u001b[39m \u001b[43m_ssl_wrap_socket_impl\u001b[49m\u001b[43m(\u001b[49m\n\u001b[0;32m    450\u001b[0m \u001b[43m        \u001b[49m\u001b[43msock\u001b[49m\u001b[43m,\u001b[49m\u001b[43m \u001b[49m\u001b[43mcontext\u001b[49m\u001b[43m,\u001b[49m\u001b[43m \u001b[49m\u001b[43mtls_in_tls\u001b[49m\u001b[43m,\u001b[49m\u001b[43m \u001b[49m\u001b[43mserver_hostname\u001b[49m\u001b[38;5;241;43m=\u001b[39;49m\u001b[43mserver_hostname\u001b[49m\n\u001b[0;32m    451\u001b[0m \u001b[43m    \u001b[49m\u001b[43m)\u001b[49m\n\u001b[0;32m    452\u001b[0m \u001b[38;5;28;01melse\u001b[39;00m:\n\u001b[0;32m    453\u001b[0m     ssl_sock \u001b[38;5;241m=\u001b[39m _ssl_wrap_socket_impl(sock, context, tls_in_tls)\n",
      "File \u001b[1;32mc:\\Users\\tcrsm\\AppData\\Local\\Programs\\Python\\Python310\\lib\\site-packages\\urllib3\\util\\ssl_.py:493\u001b[0m, in \u001b[0;36m_ssl_wrap_socket_impl\u001b[1;34m(sock, ssl_context, tls_in_tls, server_hostname)\u001b[0m\n\u001b[0;32m    490\u001b[0m     \u001b[38;5;28;01mreturn\u001b[39;00m SSLTransport(sock, ssl_context, server_hostname)\n\u001b[0;32m    492\u001b[0m \u001b[38;5;28;01mif\u001b[39;00m server_hostname:\n\u001b[1;32m--> 493\u001b[0m     \u001b[38;5;28;01mreturn\u001b[39;00m \u001b[43mssl_context\u001b[49m\u001b[38;5;241;43m.\u001b[39;49m\u001b[43mwrap_socket\u001b[49m\u001b[43m(\u001b[49m\u001b[43msock\u001b[49m\u001b[43m,\u001b[49m\u001b[43m \u001b[49m\u001b[43mserver_hostname\u001b[49m\u001b[38;5;241;43m=\u001b[39;49m\u001b[43mserver_hostname\u001b[49m\u001b[43m)\u001b[49m\n\u001b[0;32m    494\u001b[0m \u001b[38;5;28;01melse\u001b[39;00m:\n\u001b[0;32m    495\u001b[0m     \u001b[38;5;28;01mreturn\u001b[39;00m ssl_context\u001b[38;5;241m.\u001b[39mwrap_socket(sock)\n",
      "File \u001b[1;32mc:\\Users\\tcrsm\\AppData\\Local\\Programs\\Python\\Python310\\lib\\ssl.py:513\u001b[0m, in \u001b[0;36mSSLContext.wrap_socket\u001b[1;34m(self, sock, server_side, do_handshake_on_connect, suppress_ragged_eofs, server_hostname, session)\u001b[0m\n\u001b[0;32m    507\u001b[0m \u001b[38;5;28;01mdef\u001b[39;00m \u001b[38;5;21mwrap_socket\u001b[39m(\u001b[38;5;28mself\u001b[39m, sock, server_side\u001b[38;5;241m=\u001b[39m\u001b[38;5;28;01mFalse\u001b[39;00m,\n\u001b[0;32m    508\u001b[0m                 do_handshake_on_connect\u001b[38;5;241m=\u001b[39m\u001b[38;5;28;01mTrue\u001b[39;00m,\n\u001b[0;32m    509\u001b[0m                 suppress_ragged_eofs\u001b[38;5;241m=\u001b[39m\u001b[38;5;28;01mTrue\u001b[39;00m,\n\u001b[0;32m    510\u001b[0m                 server_hostname\u001b[38;5;241m=\u001b[39m\u001b[38;5;28;01mNone\u001b[39;00m, session\u001b[38;5;241m=\u001b[39m\u001b[38;5;28;01mNone\u001b[39;00m):\n\u001b[0;32m    511\u001b[0m     \u001b[38;5;66;03m# SSLSocket class handles server_hostname encoding before it calls\u001b[39;00m\n\u001b[0;32m    512\u001b[0m     \u001b[38;5;66;03m# ctx._wrap_socket()\u001b[39;00m\n\u001b[1;32m--> 513\u001b[0m     \u001b[38;5;28;01mreturn\u001b[39;00m \u001b[38;5;28;43mself\u001b[39;49m\u001b[38;5;241;43m.\u001b[39;49m\u001b[43msslsocket_class\u001b[49m\u001b[38;5;241;43m.\u001b[39;49m\u001b[43m_create\u001b[49m\u001b[43m(\u001b[49m\n\u001b[0;32m    514\u001b[0m \u001b[43m        \u001b[49m\u001b[43msock\u001b[49m\u001b[38;5;241;43m=\u001b[39;49m\u001b[43msock\u001b[49m\u001b[43m,\u001b[49m\n\u001b[0;32m    515\u001b[0m \u001b[43m        \u001b[49m\u001b[43mserver_side\u001b[49m\u001b[38;5;241;43m=\u001b[39;49m\u001b[43mserver_side\u001b[49m\u001b[43m,\u001b[49m\n\u001b[0;32m    516\u001b[0m \u001b[43m        \u001b[49m\u001b[43mdo_handshake_on_connect\u001b[49m\u001b[38;5;241;43m=\u001b[39;49m\u001b[43mdo_handshake_on_connect\u001b[49m\u001b[43m,\u001b[49m\n\u001b[0;32m    517\u001b[0m \u001b[43m        \u001b[49m\u001b[43msuppress_ragged_eofs\u001b[49m\u001b[38;5;241;43m=\u001b[39;49m\u001b[43msuppress_ragged_eofs\u001b[49m\u001b[43m,\u001b[49m\n\u001b[0;32m    518\u001b[0m \u001b[43m        \u001b[49m\u001b[43mserver_hostname\u001b[49m\u001b[38;5;241;43m=\u001b[39;49m\u001b[43mserver_hostname\u001b[49m\u001b[43m,\u001b[49m\n\u001b[0;32m    519\u001b[0m \u001b[43m        \u001b[49m\u001b[43mcontext\u001b[49m\u001b[38;5;241;43m=\u001b[39;49m\u001b[38;5;28;43mself\u001b[39;49m\u001b[43m,\u001b[49m\n\u001b[0;32m    520\u001b[0m \u001b[43m        \u001b[49m\u001b[43msession\u001b[49m\u001b[38;5;241;43m=\u001b[39;49m\u001b[43msession\u001b[49m\n\u001b[0;32m    521\u001b[0m \u001b[43m    \u001b[49m\u001b[43m)\u001b[49m\n",
      "File \u001b[1;32mc:\\Users\\tcrsm\\AppData\\Local\\Programs\\Python\\Python310\\lib\\ssl.py:1071\u001b[0m, in \u001b[0;36mSSLSocket._create\u001b[1;34m(cls, sock, server_side, do_handshake_on_connect, suppress_ragged_eofs, server_hostname, context, session)\u001b[0m\n\u001b[0;32m   1068\u001b[0m         \u001b[38;5;28;01mif\u001b[39;00m timeout \u001b[38;5;241m==\u001b[39m \u001b[38;5;241m0.0\u001b[39m:\n\u001b[0;32m   1069\u001b[0m             \u001b[38;5;66;03m# non-blocking\u001b[39;00m\n\u001b[0;32m   1070\u001b[0m             \u001b[38;5;28;01mraise\u001b[39;00m \u001b[38;5;167;01mValueError\u001b[39;00m(\u001b[38;5;124m\"\u001b[39m\u001b[38;5;124mdo_handshake_on_connect should not be specified for non-blocking sockets\u001b[39m\u001b[38;5;124m\"\u001b[39m)\n\u001b[1;32m-> 1071\u001b[0m         \u001b[38;5;28;43mself\u001b[39;49m\u001b[38;5;241;43m.\u001b[39;49m\u001b[43mdo_handshake\u001b[49m\u001b[43m(\u001b[49m\u001b[43m)\u001b[49m\n\u001b[0;32m   1072\u001b[0m \u001b[38;5;28;01mexcept\u001b[39;00m (\u001b[38;5;167;01mOSError\u001b[39;00m, \u001b[38;5;167;01mValueError\u001b[39;00m):\n\u001b[0;32m   1073\u001b[0m     \u001b[38;5;28mself\u001b[39m\u001b[38;5;241m.\u001b[39mclose()\n",
      "File \u001b[1;32mc:\\Users\\tcrsm\\AppData\\Local\\Programs\\Python\\Python310\\lib\\ssl.py:1342\u001b[0m, in \u001b[0;36mSSLSocket.do_handshake\u001b[1;34m(self, block)\u001b[0m\n\u001b[0;32m   1340\u001b[0m     \u001b[38;5;28;01mif\u001b[39;00m timeout \u001b[38;5;241m==\u001b[39m \u001b[38;5;241m0.0\u001b[39m \u001b[38;5;129;01mand\u001b[39;00m block:\n\u001b[0;32m   1341\u001b[0m         \u001b[38;5;28mself\u001b[39m\u001b[38;5;241m.\u001b[39msettimeout(\u001b[38;5;28;01mNone\u001b[39;00m)\n\u001b[1;32m-> 1342\u001b[0m     \u001b[38;5;28;43mself\u001b[39;49m\u001b[38;5;241;43m.\u001b[39;49m\u001b[43m_sslobj\u001b[49m\u001b[38;5;241;43m.\u001b[39;49m\u001b[43mdo_handshake\u001b[49m\u001b[43m(\u001b[49m\u001b[43m)\u001b[49m\n\u001b[0;32m   1343\u001b[0m \u001b[38;5;28;01mfinally\u001b[39;00m:\n\u001b[0;32m   1344\u001b[0m     \u001b[38;5;28mself\u001b[39m\u001b[38;5;241m.\u001b[39msettimeout(timeout)\n",
      "\u001b[1;31mKeyboardInterrupt\u001b[0m: "
     ]
    }
   ],
   "source": [
    "session = create_session()\n",
    "url_list = create_url_list(URL, 4)\n",
    "pages = read_pages(url_list=url_list, session=session)"
   ]
  },
  {
   "cell_type": "code",
   "execution_count": null,
   "metadata": {},
   "outputs": [
    {
     "data": {
      "text/html": [
       "<pre style=\"white-space:pre;overflow-x:auto;line-height:normal;font-family:Menlo,'DejaVu Sans Mono',consolas,'Courier New',monospace\"><span style=\"font-style: italic\">Elapsed time</span> for <span style=\"color: #800000; text-decoration-color: #800000; font-weight: bold\">extract_all_urls</span> function: <span style=\"color: #008080; text-decoration-color: #008080; font-weight: bold\">1.134</span> seconds.\n",
       "</pre>\n"
      ],
      "text/plain": [
       "\u001b[3mElapsed time\u001b[0m for \u001b[1;31mextract_all_urls\u001b[0m function: \u001b[1;36m1.134\u001b[0m seconds.\n"
      ]
     },
     "metadata": {},
     "output_type": "display_data"
    },
    {
     "name": "stdout",
     "output_type": "stream",
     "text": [
      "--------------------\n",
      "Product 1 -> Successfull Extraction.\n",
      "Product 2 -> Successfull Extraction.\n",
      "Product 3 -> Successfull Extraction.\n",
      "Product 4 -> Successfull Extraction.\n",
      "Product 5 -> Successfull Extraction.\n",
      "Product 6 -> Successfull Extraction.\n",
      "Product 7 -> Successfull Extraction.\n",
      "Product 8 -> Successfull Extraction.\n",
      "Product 9 -> Successfull Extraction.\n",
      "Product 10 -> Successfull Extraction.\n",
      "Product 11 -> Successfull Extraction.\n",
      "Product 12 -> Successfull Extraction.\n",
      "Product 13 -> Successfull Extraction.\n",
      "Product 14 -> Successfull Extraction.\n",
      "Product 15 -> Successfull Extraction.\n",
      "Product 16 -> Successfull Extraction.\n",
      "Product 17 -> Successfull Extraction.\n",
      "Product 18 -> Successfull Extraction.\n",
      "Product 19 -> Successfull Extraction.\n",
      "Product 20 -> Successfull Extraction.\n",
      "Product 21 -> Successfull Extraction.\n",
      "Product 22 -> Successfull Extraction.\n",
      "Product 23 -> Successfull Extraction.\n",
      "Product 24 -> Successfull Extraction.\n",
      "Product 25 -> Successfull Extraction.\n",
      "Product 26 -> Successfull Extraction.\n",
      "Product 27 -> Successfull Extraction.\n",
      "Product 28 -> Successfull Extraction.\n",
      "Product 29 -> Successfull Extraction.\n",
      "Product 30 -> Successfull Extraction.\n",
      "Product 31 -> Successfull Extraction.\n",
      "Product 32 -> Successfull Extraction.\n",
      "Product 33 -> Successfull Extraction.\n",
      "Product 34 -> Successfull Extraction.\n",
      "Product 35 -> Successfull Extraction.\n",
      "Product 36 -> Successfull Extraction.\n",
      "Product 37 -> Successfull Extraction.\n",
      "Product 38 -> Successfull Extraction.\n",
      "Product 39 -> Successfull Extraction.\n",
      "Product 40 -> Successfull Extraction.\n",
      "Product 41 -> Successfull Extraction.\n",
      "Product 42 -> Successfull Extraction.\n",
      "Product 43 -> Successfull Extraction.\n",
      "Product 44 -> Successfull Extraction.\n",
      "Product 45 -> Successfull Extraction.\n",
      "Product 46 -> Successfull Extraction.\n",
      "Product 47 -> Successfull Extraction.\n",
      "Product 48 -> Successfull Extraction.\n",
      "Product 49 -> Successfull Extraction.\n",
      "Product 50 -> Successfull Extraction.\n",
      "Product 51 -> Successfull Extraction.\n",
      "Product 52 -> Successfull Extraction.\n",
      "Product 53 -> Successfull Extraction.\n",
      "Product 54 -> Successfull Extraction.\n",
      "Product 55 -> Successfull Extraction.\n",
      "Product 56 -> Successfull Extraction.\n",
      "Product 57 -> Successfull Extraction.\n",
      "Product 58 -> Successfull Extraction.\n",
      "Product 59 -> Successfull Extraction.\n",
      "Product 60 -> Successfull Extraction.\n",
      "Product 61 -> Successfull Extraction.\n",
      "Product 62 -> Successfull Extraction.\n",
      "Product 63 -> Successfull Extraction.\n",
      "Product 64 -> Successfull Extraction.\n",
      "Product 65 -> Successfull Extraction.\n",
      "Product 66 -> Successfull Extraction.\n",
      "Product 67 -> Successfull Extraction.\n",
      "Product 68 -> Successfull Extraction.\n",
      "Product 69 -> Successfull Extraction.\n",
      "Product 70 -> Successfull Extraction.\n",
      "Product 71 -> Successfull Extraction.\n",
      "Product 72 -> Successfull Extraction.\n",
      "Product 73 -> Successfull Extraction.\n",
      "Product 74 -> Successfull Extraction.\n",
      "Product 75 -> Successfull Extraction.\n",
      "Product 76 -> Successfull Extraction.\n",
      "Product 77 -> Successfull Extraction.\n",
      "Product 78 -> Successfull Extraction.\n",
      "Product 79 -> Successfull Extraction.\n",
      "Product 80 -> Successfull Extraction.\n",
      "Product 81 -> Successfull Extraction.\n",
      "Product 82 -> Successfull Extraction.\n",
      "Product 83 -> Successfull Extraction.\n",
      "Product 84 -> Successfull Extraction.\n",
      "Product 85 -> Successfull Extraction.\n",
      "Product 86 -> Successfull Extraction.\n",
      "Product 87 -> Successfull Extraction.\n",
      "Product 88 -> Successfull Extraction.\n",
      "Product 89 -> Successfull Extraction.\n",
      "Product 90 -> Successfull Extraction.\n",
      "Product 91 -> Successfull Extraction.\n",
      "Product 92 -> Successfull Extraction.\n",
      "Product 93 -> Successfull Extraction.\n",
      "Product 94 -> Successfull Extraction.\n",
      "Product 95 -> Successfull Extraction.\n",
      "Product 96 -> Successfull Extraction.\n",
      "Product 97 -> Successfull Extraction.\n",
      "Product 98 -> Successfull Extraction.\n",
      "Product 99 -> Successfull Extraction.\n",
      "Product 100 -> Successfull Extraction.\n",
      "Product 101 -> Successfull Extraction.\n",
      "Product 102 -> Successfull Extraction.\n",
      "Product 103 -> Successfull Extraction.\n",
      "Product 104 -> Successfull Extraction.\n",
      "Product 105 -> Successfull Extraction.\n",
      "Product 106 -> Successfull Extraction.\n",
      "Product 107 -> Successfull Extraction.\n",
      "Product 108 -> Successfull Extraction.\n",
      "Product 109 -> Successfull Extraction.\n",
      "Product 110 -> Successfull Extraction.\n",
      "Product 111 -> Successfull Extraction.\n",
      "Product 112 -> Successfull Extraction.\n",
      "Product 113 -> Successfull Extraction.\n",
      "Product 114 -> Successfull Extraction.\n",
      "Product 115 -> Successfull Extraction.\n",
      "Product 116 -> Successfull Extraction.\n",
      "Product 117 -> Successfull Extraction.\n",
      "Product 118 -> Successfull Extraction.\n",
      "Product 119 -> Successfull Extraction.\n",
      "Product 120 -> Successfull Extraction.\n",
      "Product 121 -> Successfull Extraction.\n",
      "Product 122 -> Successfull Extraction.\n",
      "Product 123 -> Successfull Extraction.\n",
      "Product 124 -> Successfull Extraction.\n",
      "Product 125 -> Successfull Extraction.\n",
      "Product 126 -> Successfull Extraction.\n",
      "Product 127 -> Successfull Extraction.\n",
      "Product 128 -> Successfull Extraction.\n",
      "Product 129 -> Successfull Extraction.\n",
      "Product 130 -> Successfull Extraction.\n",
      "Product 131 -> Successfull Extraction.\n",
      "Product 132 -> Successfull Extraction.\n",
      "Product 133 -> Successfull Extraction.\n",
      "Product 134 -> Successfull Extraction.\n",
      "Product 135 -> Successfull Extraction.\n",
      "Product 136 -> Successfull Extraction.\n",
      "Product 137 -> Successfull Extraction.\n",
      "Product 138 -> Successfull Extraction.\n",
      "Product 139 -> Successfull Extraction.\n",
      "Product 140 -> Successfull Extraction.\n",
      "Product 141 -> Successfull Extraction.\n",
      "Product 142 -> Successfull Extraction.\n",
      "Product 143 -> Successfull Extraction.\n",
      "Product 144 -> Successfull Extraction.\n",
      "Product 145 -> Successfull Extraction.\n",
      "Product 146 -> Successfull Extraction.\n",
      "Product 147 -> Successfull Extraction.\n",
      "Product 148 -> Successfull Extraction.\n",
      "Product 149 -> Successfull Extraction.\n",
      "Product 150 -> Successfull Extraction.\n"
     ]
    },
    {
     "data": {
      "text/html": [
       "<pre style=\"white-space:pre;overflow-x:auto;line-height:normal;font-family:Menlo,'DejaVu Sans Mono',consolas,'Courier New',monospace\"><span style=\"font-style: italic\">Elapsed time</span> for <span style=\"color: #800000; text-decoration-color: #800000; font-weight: bold\">extract_all_pages</span> function: <span style=\"color: #008080; text-decoration-color: #008080; font-weight: bold\">237.438</span> seconds.\n",
       "</pre>\n"
      ],
      "text/plain": [
       "\u001b[3mElapsed time\u001b[0m for \u001b[1;31mextract_all_pages\u001b[0m function: \u001b[1;36m237.438\u001b[0m seconds.\n"
      ]
     },
     "metadata": {},
     "output_type": "display_data"
    }
   ],
   "source": [
    "all_urls = extract_all_urls(pages)\n",
    "print(\"--------------------\")\n",
    "product_pages = extract_all_pages(all_urls, session)"
   ]
  },
  {
   "cell_type": "code",
   "execution_count": null,
   "metadata": {},
   "outputs": [],
   "source": [
    "all_urls"
   ]
  },
  {
   "cell_type": "markdown",
   "metadata": {},
   "source": [
    "Il faudrait créer une fonction pour la génération de la liste des smartphones + l'export en `json`"
   ]
  },
  {
   "cell_type": "code",
   "execution_count": null,
   "metadata": {},
   "outputs": [],
   "source": [
    "masoupe = BeautifulSoup(product_pages[2], \"html.parser\")"
   ]
  },
  {
   "cell_type": "code",
   "execution_count": 44,
   "metadata": {},
   "outputs": [
    {
     "data": {
      "text/plain": [
       "<img aria-hidden=\"true\" class=\"product-viewer__placeholder-img\" fetchpriority=\"high\" loading=\"eager\" src=\"https://boulanger.scene7.com/is/image/Boulanger/8806095019116_h_f_l_0?hei=304&amp;resMode=sharp2&amp;op_usm=1.75,0.3,2,0\" srcset=\"https://boulanger.scene7.com/is/image/Boulanger/8806095019116_h_f_l_0?hei=608&amp;resMode=sharp2&amp;op_usm=1.75,0.3,2,0 2x\"/>"
      ]
     },
     "execution_count": 44,
     "metadata": {},
     "output_type": "execute_result"
    }
   ],
   "source": [
    "masoupe.find(\"img\", attrs={\"class\": \"product-viewer__placeholder-img\"})"
   ]
  },
  {
   "cell_type": "code",
   "execution_count": null,
   "metadata": {},
   "outputs": [],
   "source": [
    "def _extract_image(soup: BeautifulSoup) -> str:\n",
    "    nb_reviews = soup.find(\"span\", attrs={\"class\": \"rating__count\"}).text\n",
    "    return nb_reviews"
   ]
  },
  {
   "cell_type": "code",
   "execution_count": 30,
   "metadata": {},
   "outputs": [
    {
     "data": {
      "text/plain": [
       "Smartphone(model='iPhone 15 Pro', color='Bleu', os='iOS 17', sim_type='Nano SIM et eSIM', sim_number='2 SIM', cpu='Puce A17 Pro', cpu_details=None, battery='Non communiqué', charging_type='Possibilité de charger par induction', fast_charging='Oui', screen_size='6,1\" soit 15,5 cm', screen_tech='Super Retina XDR', screen_resolution='2556 x 1179 pixels', screen_type='Plat', refresh_rate='120 Hz', network='5G', bluetooth='5.3', wifi=None, usb_type_c=None, storage='256 Go', upgrade_storage='Non', ram='Non communiqué', sensor='3', sensor_resolution='48 mégapixels+ 12 mégapixels+ 12 mégapixels', repairability_index='7,6 /10', warranty='2 ans', made_in='Chine', brand='APPLE', das_head='0,980 W/kg', das_chest='0,960 W/kg', das_limbs='2,990 W/kg', height='146,60 mm', width='70,60 mm', thickness='8,20 mm', net_weight='187,00 g', price='1299,00€', stars='<a aria-label=\"Consulter les avis clients sur ce produit - avis positifs : 93.5% sur 20 avis\" class=\"rating\" href=\"/ref/1196355#Avis-clients\">\\n<div class=\"rating__stars\">\\n<bl-rating rating=\"4.699999809265137\"></bl-rating>\\n</div>\\n<span class=\"rating__count\">(20)</span>\\n</a>', reviews='(20)')"
      ]
     },
     "execution_count": 30,
     "metadata": {},
     "output_type": "execute_result"
    }
   ],
   "source": [
    "dict_features = extract_features(masoupe)\n"
   ]
  },
  {
   "cell_type": "code",
   "execution_count": 22,
   "metadata": {},
   "outputs": [
    {
     "ename": "KeyboardInterrupt",
     "evalue": "",
     "output_type": "error",
     "traceback": [
      "\u001b[1;31m---------------------------------------------------------------------------\u001b[0m",
      "\u001b[1;31mKeyboardInterrupt\u001b[0m                         Traceback (most recent call last)",
      "Cell \u001b[1;32mIn [22], line 3\u001b[0m\n\u001b[0;32m      1\u001b[0m smartphone_list \u001b[38;5;241m=\u001b[39m \u001b[38;5;28mlist\u001b[39m()\n\u001b[0;32m      2\u001b[0m \u001b[38;5;28;01mfor\u001b[39;00m article \u001b[38;5;129;01min\u001b[39;00m product_pages:\n\u001b[1;32m----> 3\u001b[0m     soup \u001b[38;5;241m=\u001b[39m \u001b[43mBeautifulSoup\u001b[49m\u001b[43m(\u001b[49m\u001b[43marticle\u001b[49m\u001b[43m,\u001b[49m\u001b[43m \u001b[49m\u001b[38;5;124;43m\"\u001b[39;49m\u001b[38;5;124;43mhtml.parser\u001b[39;49m\u001b[38;5;124;43m\"\u001b[39;49m\u001b[43m)\u001b[49m\n\u001b[0;32m      4\u001b[0m     dict_features \u001b[38;5;241m=\u001b[39m extract_features(soup)\n\u001b[0;32m      5\u001b[0m     smartphone \u001b[38;5;241m=\u001b[39m smartphone_characteristics(dict_features)\n",
      "File \u001b[1;32mc:\\Users\\tcrsm\\AppData\\Local\\Programs\\Python\\Python310\\lib\\site-packages\\bs4\\__init__.py:333\u001b[0m, in \u001b[0;36mBeautifulSoup.__init__\u001b[1;34m(self, markup, features, builder, parse_only, from_encoding, exclude_encodings, element_classes, **kwargs)\u001b[0m\n\u001b[0;32m    331\u001b[0m \u001b[38;5;28mself\u001b[39m\u001b[38;5;241m.\u001b[39mbuilder\u001b[38;5;241m.\u001b[39minitialize_soup(\u001b[38;5;28mself\u001b[39m)\n\u001b[0;32m    332\u001b[0m \u001b[38;5;28;01mtry\u001b[39;00m:\n\u001b[1;32m--> 333\u001b[0m     \u001b[38;5;28;43mself\u001b[39;49m\u001b[38;5;241;43m.\u001b[39;49m\u001b[43m_feed\u001b[49m\u001b[43m(\u001b[49m\u001b[43m)\u001b[49m\n\u001b[0;32m    334\u001b[0m     success \u001b[38;5;241m=\u001b[39m \u001b[38;5;28;01mTrue\u001b[39;00m\n\u001b[0;32m    335\u001b[0m     \u001b[38;5;28;01mbreak\u001b[39;00m\n",
      "File \u001b[1;32mc:\\Users\\tcrsm\\AppData\\Local\\Programs\\Python\\Python310\\lib\\site-packages\\bs4\\__init__.py:451\u001b[0m, in \u001b[0;36mBeautifulSoup._feed\u001b[1;34m(self)\u001b[0m\n\u001b[0;32m    448\u001b[0m \u001b[38;5;66;03m# Convert the document to Unicode.\u001b[39;00m\n\u001b[0;32m    449\u001b[0m \u001b[38;5;28mself\u001b[39m\u001b[38;5;241m.\u001b[39mbuilder\u001b[38;5;241m.\u001b[39mreset()\n\u001b[1;32m--> 451\u001b[0m \u001b[38;5;28;43mself\u001b[39;49m\u001b[38;5;241;43m.\u001b[39;49m\u001b[43mbuilder\u001b[49m\u001b[38;5;241;43m.\u001b[39;49m\u001b[43mfeed\u001b[49m\u001b[43m(\u001b[49m\u001b[38;5;28;43mself\u001b[39;49m\u001b[38;5;241;43m.\u001b[39;49m\u001b[43mmarkup\u001b[49m\u001b[43m)\u001b[49m\n\u001b[0;32m    452\u001b[0m \u001b[38;5;66;03m# Close out any unfinished strings and close all the open tags.\u001b[39;00m\n\u001b[0;32m    453\u001b[0m \u001b[38;5;28mself\u001b[39m\u001b[38;5;241m.\u001b[39mendData()\n",
      "File \u001b[1;32mc:\\Users\\tcrsm\\AppData\\Local\\Programs\\Python\\Python310\\lib\\site-packages\\bs4\\builder\\_htmlparser.py:399\u001b[0m, in \u001b[0;36mHTMLParserTreeBuilder.feed\u001b[1;34m(self, markup)\u001b[0m\n\u001b[0;32m    397\u001b[0m parser\u001b[38;5;241m.\u001b[39msoup \u001b[38;5;241m=\u001b[39m \u001b[38;5;28mself\u001b[39m\u001b[38;5;241m.\u001b[39msoup\n\u001b[0;32m    398\u001b[0m \u001b[38;5;28;01mtry\u001b[39;00m:\n\u001b[1;32m--> 399\u001b[0m     \u001b[43mparser\u001b[49m\u001b[38;5;241;43m.\u001b[39;49m\u001b[43mfeed\u001b[49m\u001b[43m(\u001b[49m\u001b[43mmarkup\u001b[49m\u001b[43m)\u001b[49m\n\u001b[0;32m    400\u001b[0m     parser\u001b[38;5;241m.\u001b[39mclose()\n\u001b[0;32m    401\u001b[0m \u001b[38;5;28;01mexcept\u001b[39;00m HTMLParseError \u001b[38;5;28;01mas\u001b[39;00m e:\n",
      "File \u001b[1;32mc:\\Users\\tcrsm\\AppData\\Local\\Programs\\Python\\Python310\\lib\\html\\parser.py:110\u001b[0m, in \u001b[0;36mHTMLParser.feed\u001b[1;34m(self, data)\u001b[0m\n\u001b[0;32m    104\u001b[0m \u001b[38;5;250m\u001b[39m\u001b[38;5;124mr\u001b[39m\u001b[38;5;124;03m\"\"\"Feed data to the parser.\u001b[39;00m\n\u001b[0;32m    105\u001b[0m \n\u001b[0;32m    106\u001b[0m \u001b[38;5;124;03mCall this as often as you want, with as little or as much text\u001b[39;00m\n\u001b[0;32m    107\u001b[0m \u001b[38;5;124;03mas you want (may include '\\n').\u001b[39;00m\n\u001b[0;32m    108\u001b[0m \u001b[38;5;124;03m\"\"\"\u001b[39;00m\n\u001b[0;32m    109\u001b[0m \u001b[38;5;28mself\u001b[39m\u001b[38;5;241m.\u001b[39mrawdata \u001b[38;5;241m=\u001b[39m \u001b[38;5;28mself\u001b[39m\u001b[38;5;241m.\u001b[39mrawdata \u001b[38;5;241m+\u001b[39m data\n\u001b[1;32m--> 110\u001b[0m \u001b[38;5;28;43mself\u001b[39;49m\u001b[38;5;241;43m.\u001b[39;49m\u001b[43mgoahead\u001b[49m\u001b[43m(\u001b[49m\u001b[38;5;241;43m0\u001b[39;49m\u001b[43m)\u001b[49m\n",
      "File \u001b[1;32mc:\\Users\\tcrsm\\AppData\\Local\\Programs\\Python\\Python310\\lib\\html\\parser.py:170\u001b[0m, in \u001b[0;36mHTMLParser.goahead\u001b[1;34m(self, end)\u001b[0m\n\u001b[0;32m    168\u001b[0m \u001b[38;5;28;01mif\u001b[39;00m startswith(\u001b[38;5;124m'\u001b[39m\u001b[38;5;124m<\u001b[39m\u001b[38;5;124m'\u001b[39m, i):\n\u001b[0;32m    169\u001b[0m     \u001b[38;5;28;01mif\u001b[39;00m starttagopen\u001b[38;5;241m.\u001b[39mmatch(rawdata, i): \u001b[38;5;66;03m# < + letter\u001b[39;00m\n\u001b[1;32m--> 170\u001b[0m         k \u001b[38;5;241m=\u001b[39m \u001b[38;5;28;43mself\u001b[39;49m\u001b[38;5;241;43m.\u001b[39;49m\u001b[43mparse_starttag\u001b[49m\u001b[43m(\u001b[49m\u001b[43mi\u001b[49m\u001b[43m)\u001b[49m\n\u001b[0;32m    171\u001b[0m     \u001b[38;5;28;01melif\u001b[39;00m startswith(\u001b[38;5;124m\"\u001b[39m\u001b[38;5;124m</\u001b[39m\u001b[38;5;124m\"\u001b[39m, i):\n\u001b[0;32m    172\u001b[0m         k \u001b[38;5;241m=\u001b[39m \u001b[38;5;28mself\u001b[39m\u001b[38;5;241m.\u001b[39mparse_endtag(i)\n",
      "File \u001b[1;32mc:\\Users\\tcrsm\\AppData\\Local\\Programs\\Python\\Python310\\lib\\html\\parser.py:340\u001b[0m, in \u001b[0;36mHTMLParser.parse_starttag\u001b[1;34m(self, i)\u001b[0m\n\u001b[0;32m    338\u001b[0m     \u001b[38;5;28mself\u001b[39m\u001b[38;5;241m.\u001b[39mhandle_data(rawdata[i:endpos])\n\u001b[0;32m    339\u001b[0m     \u001b[38;5;28;01mreturn\u001b[39;00m endpos\n\u001b[1;32m--> 340\u001b[0m \u001b[38;5;28;01mif\u001b[39;00m end\u001b[38;5;241m.\u001b[39mendswith(\u001b[38;5;124m'\u001b[39m\u001b[38;5;124m/>\u001b[39m\u001b[38;5;124m'\u001b[39m):\n\u001b[0;32m    341\u001b[0m     \u001b[38;5;66;03m# XHTML-style empty tag: <span attr=\"value\" />\u001b[39;00m\n\u001b[0;32m    342\u001b[0m     \u001b[38;5;28mself\u001b[39m\u001b[38;5;241m.\u001b[39mhandle_startendtag(tag, attrs)\n\u001b[0;32m    343\u001b[0m \u001b[38;5;28;01melse\u001b[39;00m:\n",
      "\u001b[1;31mKeyboardInterrupt\u001b[0m: "
     ]
    }
   ],
   "source": [
    "smartphone_list = list()\n",
    "for article in product_pages:\n",
    "    soup = BeautifulSoup(article, \"html.parser\")\n",
    "    dict_features = extract_features(soup)\n",
    "    smartphone = smartphone_characteristics(dict_features)\n",
    "    smartphone_list.append(smartphone)"
   ]
  },
  {
   "cell_type": "code",
   "execution_count": null,
   "metadata": {},
   "outputs": [],
   "source": [
    "smartphones_json = to_json(smartphone_list)"
   ]
  },
  {
   "cell_type": "code",
   "execution_count": null,
   "metadata": {},
   "outputs": [],
   "source": [
    "file_path = \"data/smartphones.json\"\n",
    "\n",
    "with open(file_path, \"w\", encoding=\"utf-8\") as json_file:\n",
    "    json_file.write(smartphones_json)"
   ]
  },
  {
   "cell_type": "markdown",
   "metadata": {},
   "source": [
    "## Charge le Dataframe dans `polars`"
   ]
  },
  {
   "cell_type": "code",
   "execution_count": 15,
   "metadata": {},
   "outputs": [],
   "source": [
    "import polars as pl\n",
    "import polars.selectors as cs\n",
    "from script.polars_gazprom import *\n",
    "from itertools import chain"
   ]
  },
  {
   "cell_type": "code",
   "execution_count": 16,
   "metadata": {},
   "outputs": [],
   "source": [
    "df_brut = pl.read_json(\"data/smartphones.json\")"
   ]
  },
  {
   "cell_type": "markdown",
   "metadata": {},
   "source": [
    "### Pipeline"
   ]
  },
  {
   "cell_type": "markdown",
   "metadata": {},
   "source": [
    "Sur `535` extractions, il y a `487` téléphones valides."
   ]
  },
  {
   "cell_type": "code",
   "execution_count": 17,
   "metadata": {},
   "outputs": [
    {
     "data": {
      "text/html": [
       "<div><style>\n",
       ".dataframe > thead > tr,\n",
       ".dataframe > tbody > tr {\n",
       "  text-align: right;\n",
       "  white-space: pre-wrap;\n",
       "}\n",
       "</style>\n",
       "<small>shape: (487, 40)</small><table border=\"1\" class=\"dataframe\"><thead><tr><th>width</th><th>screen_type</th><th>das_chest</th><th>upgrade_storage</th><th>ram</th><th>model</th><th>resolution_1</th><th>resolution_2</th><th>wifi</th><th>battery</th><th>das_limbs</th><th>price</th><th>made_in</th><th>cam_1</th><th>cam_2</th><th>cam_3</th><th>height</th><th>screen_size</th><th>cpu</th><th>screen_tech</th><th>color</th><th>das_head</th><th>network</th><th>sensor</th><th>net_weight</th><th>reviews</th><th>usb_type_c</th><th>brand</th><th>fast_charging</th><th>thickness</th><th>storage</th><th>stars</th><th>repairability_index</th><th>diagonal_pixels</th><th>resolution</th><th>logprice</th><th>induction</th><th>ppi</th><th>mpx_backward_cam</th><th>random_col</th></tr><tr><td>f64</td><td>str</td><td>f64</td><td>bool</td><td>i64</td><td>str</td><td>i64</td><td>i64</td><td>null</td><td>i64</td><td>f64</td><td>f64</td><td>str</td><td>f64</td><td>f64</td><td>f64</td><td>f64</td><td>f64</td><td>str</td><td>str</td><td>str</td><td>f64</td><td>str</td><td>str</td><td>f64</td><td>i64</td><td>bool</td><td>str</td><td>bool</td><td>f64</td><td>i64</td><td>f64</td><td>f64</td><td>f64</td><td>str</td><td>f64</td><td>bool</td><td>f64</td><td>f64</td><td>i64</td></tr></thead><tbody><tr><td>0.7</td><td>&quot;Plat&quot;</td><td>1.05</td><td>true</td><td>8</td><td>&quot;SONY Xperia 5 …</td><td>2520</td><td>1080</td><td>null</td><td>5000</td><td>2.11</td><td>999.0</td><td>&quot;Thaïlande&quot;</td><td>12.0</td><td>12.0</td><td>12.0</td><td>15.4</td><td>6.1</td><td>&quot;Qualcomm Snapd…</td><td>&quot;OLED FHD+&quot;</td><td>&quot;Argent&quot;</td><td>0.95</td><td>&quot;5G&quot;</td><td>&quot;3&quot;</td><td>182.0</td><td>0</td><td>true</td><td>&quot;SONY&quot;</td><td>true</td><td>0.9</td><td>128</td><td>0.0</td><td>8.5</td><td>2741.678318</td><td>&quot;2520 x 1080&quot;</td><td>6.906755</td><td>true</td><td>449.455462</td><td>36.0</td><td>255</td></tr><tr><td>70.6</td><td>&quot;Plat&quot;</td><td>0.96</td><td>false</td><td>8</td><td>&quot;iPhone 15 Pro&quot;</td><td>2556</td><td>1179</td><td>null</td><td>3650</td><td>2.99</td><td>1609.0</td><td>&quot;Chine&quot;</td><td>48.0</td><td>12.0</td><td>12.0</td><td>146.6</td><td>6.1</td><td>&quot;Puce A17 Pro&quot;</td><td>&quot;Super Retina X…</td><td>&quot;Bleu&quot;</td><td>0.98</td><td>&quot;5G&quot;</td><td>&quot;3&quot;</td><td>187.0</td><td>1</td><td>false</td><td>&quot;APPLE&quot;</td><td>true</td><td>8.2</td><td>512</td><td>5.0</td><td>7.6</td><td>2814.813848</td><td>&quot;2556 x 1179&quot;</td><td>7.383368</td><td>true</td><td>461.444893</td><td>72.0</td><td>184</td></tr><tr><td>87.0</td><td>&quot;Plat&quot;</td><td>1.59</td><td>false</td><td>8</td><td>&quot;Samsung Galaxy…</td><td>2340</td><td>1080</td><td>null</td><td>3700</td><td>2.71</td><td>857.59</td><td>&quot;Viêt Nam&quot;</td><td>50.0</td><td>12.0</td><td>10.0</td><td>146.0</td><td>6.1</td><td>&quot;Exynos 2200&quot;</td><td>&quot;Dynamic AMOLED…</td><td>&quot;Noir&quot;</td><td>1.21</td><td>&quot;5G&quot;</td><td>&quot;3&quot;</td><td>167.0</td><td>1</td><td>true</td><td>&quot;SAMSUNG&quot;</td><td>true</td><td>0.8</td><td>256</td><td>4.0</td><td>8.2</td><td>2577.207791</td><td>&quot;2340 x 1080&quot;</td><td>6.754126</td><td>true</td><td>422.493081</td><td>72.0</td><td>-799</td></tr><tr><td>74.7</td><td>&quot;Plat&quot;</td><td>1.32</td><td>true</td><td>4</td><td>&quot;Motorola G53&quot;</td><td>1600</td><td>720</td><td>null</td><td>5000</td><td>2.98</td><td>199.0</td><td>&quot;Chine&quot;</td><td>50.0</td><td>2.0</td><td>0.0</td><td>162.7</td><td>6.5</td><td>&quot;8 coeurs jusqu…</td><td>&quot;LCD&quot;</td><td>&quot;Bleu&quot;</td><td>0.98</td><td>&quot;5G&quot;</td><td>&quot;2&quot;</td><td>183.0</td><td>3</td><td>true</td><td>&quot;MOTOROLA&quot;</td><td>false</td><td>8.2</td><td>128</td><td>4.3333</td><td>7.1</td><td>1754.536976</td><td>&quot;1600 x 720&quot;</td><td>5.293305</td><td>false</td><td>269.928766</td><td>52.0</td><td>701</td></tr><tr><td>7.1</td><td>&quot;Plat&quot;</td><td>1.2</td><td>false</td><td>8</td><td>&quot;Google Pixel 8…</td><td>1080</td><td>2400</td><td>null</td><td>4500</td><td>2.49</td><td>799.0</td><td>&quot;Viêt Nam&quot;</td><td>50.0</td><td>12.0</td><td>10.0</td><td>15.1</td><td>6.2</td><td>&quot;Google Tensor …</td><td>&quot;Actua ou OLED …</td><td>&quot;Noir&quot;</td><td>0.98</td><td>&quot;5G&quot;</td><td>&quot;3&quot;</td><td>187.0</td><td>0</td><td>true</td><td>&quot;GOOGLE&quot;</td><td>true</td><td>0.9</td><td>128</td><td>0.0</td><td>8.2</td><td>2631.805464</td><td>&quot;1080 x 2400&quot;</td><td>6.683361</td><td>true</td><td>424.484752</td><td>72.0</td><td>668</td></tr><tr><td>77.8</td><td>&quot;Plat&quot;</td><td>0.98</td><td>false</td><td>6</td><td>&quot;iPhone 15 Plus…</td><td>2796</td><td>1290</td><td>null</td><td>4912</td><td>2.98</td><td>1499.0</td><td>&quot;Chine&quot;</td><td>48.0</td><td>12.0</td><td>0.0</td><td>160.9</td><td>6.7</td><td>&quot;Puce A16 Bioni…</td><td>&quot;OLED&quot;</td><td>&quot;Bleu&quot;</td><td>0.98</td><td>&quot;5G&quot;</td><td>&quot;2&quot;</td><td>201.0</td><td>0</td><td>true</td><td>&quot;APPLE&quot;</td><td>true</td><td>7.8</td><td>512</td><td>0.0</td><td>7.5</td><td>3079.239517</td><td>&quot;2796 x 1290&quot;</td><td>7.312553</td><td>true</td><td>459.587988</td><td>60.0</td><td>190</td></tr><tr><td>77.1</td><td>&quot;Plat&quot;</td><td>1.186</td><td>true</td><td>2</td><td>&quot;Xiaomi Redmi 9…</td><td>1600</td><td>720</td><td>null</td><td>5000</td><td>2.526</td><td>95.9</td><td>&quot;Chine&quot;</td><td>13.0</td><td>0.0</td><td>0.0</td><td>164.9</td><td>6.5</td><td>&quot;8 coeurs jusqu…</td><td>&quot;HD+&quot;</td><td>&quot;Gris&quot;</td><td>0.398</td><td>&quot;4G&quot;</td><td>&quot;1&quot;</td><td>194.0</td><td>2</td><td>true</td><td>&quot;XIAOMI&quot;</td><td>true</td><td>9.0</td><td>32</td><td>4.0</td><td>7.0</td><td>1754.536976</td><td>&quot;1600 x 720&quot;</td><td>4.563306</td><td>false</td><td>269.928766</td><td>13.0</td><td>289</td></tr><tr><td>73.9</td><td>&quot;Bords incurvés…</td><td>1.27</td><td>false</td><td>8</td><td>&quot;HONOR Magic5 L…</td><td>1080</td><td>2400</td><td>null</td><td>5100</td><td>2.81</td><td>299.0</td><td>&quot;Chine&quot;</td><td>64.0</td><td>5.0</td><td>2.0</td><td>161.6</td><td>6.7</td><td>&quot;Qualcomm Snapd…</td><td>&quot;AMOLED (rigide…</td><td>&quot;Noir&quot;</td><td>0.82</td><td>&quot;5G&quot;</td><td>&quot;3&quot;</td><td>175.0</td><td>15</td><td>true</td><td>&quot;HONOR&quot;</td><td>true</td><td>7.9</td><td>256</td><td>4.1333</td><td>8.0</td><td>2631.805464</td><td>&quot;1080 x 2400&quot;</td><td>5.700444</td><td>false</td><td>392.806786</td><td>71.0</td><td>399</td></tr><tr><td>75.9</td><td>&quot;Plat&quot;</td><td>1.4</td><td>false</td><td>12</td><td>&quot;Google Pixel 6…</td><td>3120</td><td>1440</td><td>null</td><td>5000</td><td>2.96</td><td>633.67</td><td>&quot;Chine&quot;</td><td>50.0</td><td>48.0</td><td>12.0</td><td>163.9</td><td>6.7</td><td>&quot;Google Tensor&quot;</td><td>&quot;Non communiqué…</td><td>&quot;Noir&quot;</td><td>0.99</td><td>&quot;5G&quot;</td><td>&quot;3&quot;</td><td>210.0</td><td>23</td><td>true</td><td>&quot;GOOGLE&quot;</td><td>true</td><td>8.9</td><td>128</td><td>4.087</td><td>6.4</td><td>3436.277055</td><td>&quot;3120 x 1440&quot;</td><td>6.451528</td><td>true</td><td>512.877172</td><td>110.0</td><td>-839</td></tr><tr><td>73.5</td><td>&quot;Borderless&quot;</td><td>1.18</td><td>true</td><td>6</td><td>&quot;Realme GT Mast…</td><td>1080</td><td>2400</td><td>null</td><td>4300</td><td>1.88</td><td>304.25</td><td>&quot;Chine&quot;</td><td>0.0</td><td>0.0</td><td>0.0</td><td>159.1</td><td>6.4</td><td>&quot;Non communiqué…</td><td>&quot;Non communiqué…</td><td>&quot;Noir&quot;</td><td>1.139</td><td>&quot;5G&quot;</td><td>null</td><td>174.0</td><td>0</td><td>true</td><td>&quot;REALME&quot;</td><td>true</td><td>8.0</td><td>128</td><td>0.0</td><td>6.2</td><td>2631.805464</td><td>&quot;1080 x 2400&quot;</td><td>5.71785</td><td>false</td><td>411.219604</td><td>0.0</td><td>-235</td></tr><tr><td>7.1</td><td>&quot;Plat&quot;</td><td>1.2</td><td>false</td><td>8</td><td>&quot;Google Pixel 8…</td><td>1080</td><td>2400</td><td>null</td><td>4500</td><td>2.49</td><td>859.0</td><td>&quot;Viêt Nam&quot;</td><td>50.0</td><td>12.0</td><td>10.0</td><td>15.1</td><td>6.2</td><td>&quot;Google Tensor …</td><td>&quot;Actua ou OLED …</td><td>&quot;Vert&quot;</td><td>0.98</td><td>&quot;5G&quot;</td><td>&quot;3&quot;</td><td>187.0</td><td>0</td><td>true</td><td>&quot;GOOGLE&quot;</td><td>true</td><td>0.9</td><td>256</td><td>0.0</td><td>8.2</td><td>2631.805464</td><td>&quot;1080 x 2400&quot;</td><td>6.755769</td><td>true</td><td>424.484752</td><td>72.0</td><td>-300</td></tr><tr><td>7.6</td><td>&quot;Plat&quot;</td><td>1.2</td><td>false</td><td>12</td><td>&quot;Google Pixel 8…</td><td>2772</td><td>1344</td><td>null</td><td>5000</td><td>2.5</td><td>1099.0</td><td>&quot;Viêt Nam&quot;</td><td>50.0</td><td>48.0</td><td>48.0</td><td>16.3</td><td>6.7</td><td>&quot;Google Tensor …</td><td>&quot;Super Actua ou…</td><td>&quot;Blanc&quot;</td><td>0.84</td><td>&quot;5G&quot;</td><td>null</td><td>213.0</td><td>0</td><td>true</td><td>&quot;GOOGLE&quot;</td><td>true</td><td>0.9</td><td>128</td><td>0.0</td><td>8.2</td><td>3080.636298</td><td>&quot;2772 x 1344&quot;</td><td>7.002156</td><td>true</td><td>459.796462</td><td>146.0</td><td>-300</td></tr><tr><td>&hellip;</td><td>&hellip;</td><td>&hellip;</td><td>&hellip;</td><td>&hellip;</td><td>&hellip;</td><td>&hellip;</td><td>&hellip;</td><td>&hellip;</td><td>&hellip;</td><td>&hellip;</td><td>&hellip;</td><td>&hellip;</td><td>&hellip;</td><td>&hellip;</td><td>&hellip;</td><td>&hellip;</td><td>&hellip;</td><td>&hellip;</td><td>&hellip;</td><td>&hellip;</td><td>&hellip;</td><td>&hellip;</td><td>&hellip;</td><td>&hellip;</td><td>&hellip;</td><td>&hellip;</td><td>&hellip;</td><td>&hellip;</td><td>&hellip;</td><td>&hellip;</td><td>&hellip;</td><td>&hellip;</td><td>&hellip;</td><td>&hellip;</td><td>&hellip;</td><td>&hellip;</td><td>&hellip;</td><td>&hellip;</td><td>&hellip;</td></tr><tr><td>75.5</td><td>&quot;Borderless&quot;</td><td>1.58</td><td>true</td><td>12</td><td>&quot;Samsung Galaxy…</td><td>1440</td><td>3200</td><td>null</td><td>5000</td><td>2.56</td><td>779.38</td><td>&quot;Chine&quot;</td><td>0.0</td><td>0.0</td><td>0.0</td><td>165.1</td><td>6.8</td><td>&quot;Non communiqué…</td><td>&quot;Non communiqué…</td><td>&quot;Noir&quot;</td><td>0.71</td><td>&quot;5G&quot;</td><td>null</td><td>227.0</td><td>0</td><td>true</td><td>&quot;SAMSUNG&quot;</td><td>true</td><td>8.9</td><td>128</td><td>0.0</td><td>8.1</td><td>3509.073952</td><td>&quot;1440 x 3200&quot;</td><td>6.658499</td><td>false</td><td>516.040287</td><td>0.0</td><td>555</td></tr><tr><td>71.5</td><td>&quot;Plat&quot;</td><td>0.99</td><td>false</td><td>4</td><td>&quot;iPhone 13&quot;</td><td>2532</td><td>1170</td><td>null</td><td>2815</td><td>3.8</td><td>749.0</td><td>&quot;Chine&quot;</td><td>12.0</td><td>12.0</td><td>0.0</td><td>146.7</td><td>6.1</td><td>&quot;Puce A15&quot;</td><td>&quot;Super Retina X…</td><td>&quot;Noir&quot;</td><td>0.99</td><td>&quot;5G&quot;</td><td>&quot;2&quot;</td><td>173.0</td><td>160</td><td>false</td><td>&quot;APPLE&quot;</td><td>true</td><td>7.4</td><td>128</td><td>4.6687</td><td>6.0</td><td>2789.251513</td><td>&quot;2532 x 1170&quot;</td><td>6.618739</td><td>true</td><td>457.254346</td><td>24.0</td><td>447</td></tr><tr><td>7.4</td><td>&quot;Plat&quot;</td><td>1.11</td><td>true</td><td>4</td><td>&quot;Motorola G14&quot;</td><td>1080</td><td>2400</td><td>null</td><td>5000</td><td>2.88</td><td>179.0</td><td>&quot;Chine&quot;</td><td>50.0</td><td>2.0</td><td>0.0</td><td>162.0</td><td>6.5</td><td>&quot;8 coeurs jusqu…</td><td>&quot;LCD (LTPS) FHD…</td><td>&quot;Bleu&quot;</td><td>0.71</td><td>&quot;4G&quot;</td><td>&quot;2&quot;</td><td>177.0</td><td>0</td><td>false</td><td>&quot;MOTOROLA&quot;</td><td>true</td><td>8.0</td><td>128</td><td>0.0</td><td>6.6</td><td>2631.805464</td><td>&quot;1080 x 2400&quot;</td><td>5.187386</td><td>false</td><td>404.893148</td><td>52.0</td><td>251</td></tr><tr><td>7.6</td><td>&quot;Plat&quot;</td><td>1.2</td><td>false</td><td>12</td><td>&quot;Google Pixel 8…</td><td>2772</td><td>1344</td><td>null</td><td>5000</td><td>2.5</td><td>1159.0</td><td>&quot;Viêt Nam&quot;</td><td>50.0</td><td>48.0</td><td>48.0</td><td>16.3</td><td>6.7</td><td>&quot;Google Tensor …</td><td>&quot;Super Actua ou…</td><td>&quot;Bleu&quot;</td><td>0.84</td><td>&quot;5G&quot;</td><td>null</td><td>213.0</td><td>0</td><td>true</td><td>&quot;GOOGLE&quot;</td><td>true</td><td>0.9</td><td>256</td><td>0.0</td><td>8.2</td><td>3080.636298</td><td>&quot;2772 x 1344&quot;</td><td>7.055313</td><td>true</td><td>459.796462</td><td>146.0</td><td>10</td></tr><tr><td>75.3</td><td>&quot;Plat&quot;</td><td>1.2</td><td>true</td><td>4</td><td>&quot;VIVO Y52&quot;</td><td>2400</td><td>1080</td><td>null</td><td>5000</td><td>3.0</td><td>269.0</td><td>&quot;Chine&quot;</td><td>48.0</td><td>2.0</td><td>2.0</td><td>164.0</td><td>6.6</td><td>&quot;8 coeurs jusqu…</td><td>&quot;IPS (LCD)&quot;</td><td>&quot;Noir&quot;</td><td>0.99</td><td>&quot;5G&quot;</td><td>&quot;3&quot;</td><td>193.0</td><td>5</td><td>true</td><td>&quot;VIVO&quot;</td><td>true</td><td>8.5</td><td>128</td><td>4.8</td><td>7.9</td><td>2631.805464</td><td>&quot;2400 x 1080&quot;</td><td>5.594711</td><td>false</td><td>398.758404</td><td>52.0</td><td>-912</td></tr><tr><td>73.2</td><td>&quot;Plat&quot;</td><td>1.4</td><td>false</td><td>8</td><td>&quot;Google Pixel 7…</td><td>1080</td><td>2400</td><td>null</td><td>4270</td><td>3.0</td><td>548.16</td><td>&quot;Viêt Nam&quot;</td><td>50.0</td><td>20.0</td><td>12.0</td><td>155.6</td><td>6.3</td><td>&quot;Google Tensor …</td><td>&quot;OLED FHD+&quot;</td><td>&quot;Vert&quot;</td><td>0.99</td><td>&quot;5G&quot;</td><td>&quot;3&quot;</td><td>197.0</td><td>56</td><td>true</td><td>&quot;GOOGLE&quot;</td><td>true</td><td>8.7</td><td>128</td><td>4.2679</td><td>7.2</td><td>2631.805464</td><td>&quot;1080 x 2400&quot;</td><td>6.306567</td><td>true</td><td>417.746899</td><td>82.0</td><td>971</td></tr><tr><td>71.6</td><td>&quot;Plat&quot;</td><td>0.96</td><td>false</td><td>6</td><td>&quot;iPhone 15&quot;</td><td>2556</td><td>1179</td><td>null</td><td>3877</td><td>2.98</td><td>1099.0</td><td>&quot;Chine&quot;</td><td>48.0</td><td>12.0</td><td>0.0</td><td>147.6</td><td>6.1</td><td>&quot;Puce A16 Bioni…</td><td>&quot;OLED&quot;</td><td>&quot;Rose&quot;</td><td>0.98</td><td>&quot;5G&quot;</td><td>&quot;2&quot;</td><td>171.0</td><td>0</td><td>true</td><td>&quot;APPLE&quot;</td><td>true</td><td>7.8</td><td>256</td><td>0.0</td><td>7.5</td><td>2814.813848</td><td>&quot;2556 x 1179&quot;</td><td>7.002156</td><td>true</td><td>461.444893</td><td>60.0</td><td>-24</td></tr><tr><td>76.4</td><td>&quot;Plat&quot;</td><td>1.39</td><td>true</td><td>4</td><td>&quot;Samsung Galaxy…</td><td>2408</td><td>1080</td><td>null</td><td>5000</td><td>2.8</td><td>212.4</td><td>&quot;Viêt Nam&quot;</td><td>50.0</td><td>5.0</td><td>2.0</td><td>165.1</td><td>6.6</td><td>&quot;8 coeurs jusqu…</td><td>&quot;TFT (LCD)&quot;</td><td>&quot;Noir&quot;</td><td>0.367</td><td>&quot;4G&quot;</td><td>&quot;4&quot;</td><td>195.0</td><td>111</td><td>true</td><td>&quot;SAMSUNG&quot;</td><td>true</td><td>8.8</td><td>64</td><td>4.4414</td><td>8.0</td><td>2639.102878</td><td>&quot;2408 x 1080&quot;</td><td>5.358471</td><td>false</td><td>399.864072</td><td>57.0</td><td>-629</td></tr><tr><td>75.7</td><td>&quot;Borderless&quot;</td><td>0.889</td><td>true</td><td>6</td><td>&quot;XIAOMI Mi 11 L…</td><td>1080</td><td>2400</td><td>null</td><td>4250</td><td>1.88</td><td>320.0</td><td>&quot;Chine&quot;</td><td>0.0</td><td>0.0</td><td>0.0</td><td>160.5</td><td>6.6</td><td>&quot;Non communiqué…</td><td>&quot;Non communiqué…</td><td>&quot;Noir&quot;</td><td>0.555</td><td>&quot;5G&quot;</td><td>null</td><td>159.0</td><td>0</td><td>true</td><td>&quot;XIAOMI&quot;</td><td>true</td><td>6.8</td><td>128</td><td>0.0</td><td>7.3</td><td>2631.805464</td><td>&quot;1080 x 2400&quot;</td><td>5.768321</td><td>false</td><td>398.758404</td><td>0.0</td><td>-861</td></tr><tr><td>76.7</td><td>&quot;Plat&quot;</td><td>0.98</td><td>false</td><td>8</td><td>&quot;iPhone 15 Pro …</td><td>2796</td><td>1290</td><td>null</td><td>4852</td><td>2.98</td><td>1979.0</td><td>&quot;Chine&quot;</td><td>48.0</td><td>12.0</td><td>12.0</td><td>159.9</td><td>6.7</td><td>&quot;Puce A17 Pro&quot;</td><td>&quot;Super Retina X…</td><td>&quot;Gris&quot;</td><td>0.98</td><td>&quot;5G&quot;</td><td>&quot;3&quot;</td><td>221.0</td><td>1</td><td>false</td><td>&quot;APPLE&quot;</td><td>true</td><td>8.2</td><td>1000</td><td>5.0</td><td>7.7</td><td>3079.239517</td><td>&quot;2796 x 1290&quot;</td><td>7.590347</td><td>true</td><td>459.587988</td><td>72.0</td><td>-595</td></tr><tr><td>76.5</td><td>&quot;Plat&quot;</td><td>1.49</td><td>true</td><td>4</td><td>&quot;Motorola Moto …</td><td>1080</td><td>2400</td><td>null</td><td>5000</td><td>3.19</td><td>249.0</td><td>&quot;Chine&quot;</td><td>50.0</td><td>8.0</td><td>2.0</td><td>170.5</td><td>6.8</td><td>&quot;8 coeurs jusqu…</td><td>&quot;FHD+&quot;</td><td>&quot;Bleu&quot;</td><td>1.49</td><td>&quot;5G&quot;</td><td>&quot;4&quot;</td><td>208.0</td><td>1</td><td>true</td><td>&quot;MOTOROLA&quot;</td><td>true</td><td>9.1</td><td>64</td><td>1.0</td><td>7.4</td><td>2631.805464</td><td>&quot;1080 x 2400&quot;</td><td>5.517453</td><td>false</td><td>387.030215</td><td>60.0</td><td>-165</td></tr><tr><td>71.6</td><td>&quot;Plat&quot;</td><td>0.98</td><td>false</td><td>6</td><td>&quot;iPhone 15&quot;</td><td>2556</td><td>1179</td><td>null</td><td>3877</td><td>2.98</td><td>1349.0</td><td>&quot;Chine&quot;</td><td>48.0</td><td>12.0</td><td>0.0</td><td>147.6</td><td>6.1</td><td>&quot;Puce A16 Bioni…</td><td>&quot;OLED&quot;</td><td>&quot;Rose&quot;</td><td>0.98</td><td>&quot;5G&quot;</td><td>&quot;2&quot;</td><td>171.0</td><td>0</td><td>true</td><td>&quot;APPLE&quot;</td><td>true</td><td>7.8</td><td>512</td><td>0.0</td><td>7.5</td><td>2814.813848</td><td>&quot;2556 x 1179&quot;</td><td>7.207119</td><td>false</td><td>461.444893</td><td>60.0</td><td>143</td></tr></tbody></table></div>"
      ],
      "text/plain": [
       "shape: (487, 40)\n",
       "┌───────┬────────────┬───────────┬────────────┬───┬───────────┬────────────┬───────────┬───────────┐\n",
       "│ width ┆ screen_typ ┆ das_chest ┆ upgrade_st ┆ … ┆ induction ┆ ppi        ┆ mpx_backw ┆ random_co │\n",
       "│ ---   ┆ e          ┆ ---       ┆ orage      ┆   ┆ ---       ┆ ---        ┆ ard_cam   ┆ l         │\n",
       "│ f64   ┆ ---        ┆ f64       ┆ ---        ┆   ┆ bool      ┆ f64        ┆ ---       ┆ ---       │\n",
       "│       ┆ str        ┆           ┆ bool       ┆   ┆           ┆            ┆ f64       ┆ i64       │\n",
       "╞═══════╪════════════╪═══════════╪════════════╪═══╪═══════════╪════════════╪═══════════╪═══════════╡\n",
       "│ 0.7   ┆ Plat       ┆ 1.05      ┆ true       ┆ … ┆ true      ┆ 449.455462 ┆ 36.0      ┆ 255       │\n",
       "│ 70.6  ┆ Plat       ┆ 0.96      ┆ false      ┆ … ┆ true      ┆ 461.444893 ┆ 72.0      ┆ 184       │\n",
       "│ 87.0  ┆ Plat       ┆ 1.59      ┆ false      ┆ … ┆ true      ┆ 422.493081 ┆ 72.0      ┆ -799      │\n",
       "│ 74.7  ┆ Plat       ┆ 1.32      ┆ true       ┆ … ┆ false     ┆ 269.928766 ┆ 52.0      ┆ 701       │\n",
       "│ 7.1   ┆ Plat       ┆ 1.2       ┆ false      ┆ … ┆ true      ┆ 424.484752 ┆ 72.0      ┆ 668       │\n",
       "│ …     ┆ …          ┆ …         ┆ …          ┆ … ┆ …         ┆ …          ┆ …         ┆ …         │\n",
       "│ 76.4  ┆ Plat       ┆ 1.39      ┆ true       ┆ … ┆ false     ┆ 399.864072 ┆ 57.0      ┆ -629      │\n",
       "│ 75.7  ┆ Borderless ┆ 0.889     ┆ true       ┆ … ┆ false     ┆ 398.758404 ┆ 0.0       ┆ -861      │\n",
       "│ 76.7  ┆ Plat       ┆ 0.98      ┆ false      ┆ … ┆ true      ┆ 459.587988 ┆ 72.0      ┆ -595      │\n",
       "│ 76.5  ┆ Plat       ┆ 1.49      ┆ true       ┆ … ┆ false     ┆ 387.030215 ┆ 60.0      ┆ -165      │\n",
       "│ 71.6  ┆ Plat       ┆ 0.98      ┆ false      ┆ … ┆ false     ┆ 461.444893 ┆ 60.0      ┆ 143       │\n",
       "└───────┴────────────┴───────────┴────────────┴───┴───────────┴────────────┴───────────┴───────────┘"
      ]
     },
     "execution_count": 17,
     "metadata": {},
     "output_type": "execute_result"
    }
   ],
   "source": [
    "df = NordStream(df_brut)\n",
    "df"
   ]
  },
  {
   "cell_type": "code",
   "execution_count": 18,
   "metadata": {},
   "outputs": [
    {
     "data": {
      "text/plain": [
       "37"
      ]
     },
     "execution_count": 18,
     "metadata": {},
     "output_type": "execute_result"
    }
   ],
   "source": [
    "len(df.columns) - 3"
   ]
  },
  {
   "cell_type": "markdown",
   "metadata": {},
   "source": [
    "df = df.with_columns(\n",
    "    pl.concat_str([df['resolution_1'], pl.lit(' x '), df['resolution_2']]).alias('Resolution')\n",
    ")"
   ]
  },
  {
   "cell_type": "code",
   "execution_count": null,
   "metadata": {},
   "outputs": [],
   "source": [
    "from pathlib import Path\n",
    "\n",
    "root = Path(\".\").resolve()\n",
    "data_folder = root / \"data\"\n",
    "path_file = data_folder / \"df_clean.csv\""
   ]
  },
  {
   "cell_type": "code",
   "execution_count": null,
   "metadata": {},
   "outputs": [],
   "source": [
    "df.write_csv(path_file, separator=\";\")"
   ]
  },
  {
   "cell_type": "code",
   "execution_count": null,
   "metadata": {},
   "outputs": [],
   "source": [
    "import plotly.express as px\n",
    "from plotly.subplots import make_subplots"
   ]
  },
  {
   "cell_type": "code",
   "execution_count": null,
   "metadata": {},
   "outputs": [],
   "source": [
    "median = df.select(pl.col(\"price\").median()).item()\n",
    "mean = df.select(pl.col(\"price\").mean()).item()\n",
    "std = df.select(pl.col(\"price\").std()).item()\n",
    "pearson_skewness_coeff = (3*(mean-median))/ std"
   ]
  },
  {
   "cell_type": "code",
   "execution_count": null,
   "metadata": {},
   "outputs": [],
   "source": [
    "pearson_skewness_coeff"
   ]
  },
  {
   "cell_type": "markdown",
   "metadata": {},
   "source": [
    "Le résultat indique que l'asymétrie de la distribution est positive => indique une distribution décalée à gauche de la médiane"
   ]
  },
  {
   "cell_type": "code",
   "execution_count": null,
   "metadata": {},
   "outputs": [],
   "source": [
    "df = pl.read_json(\"data/smartphones.json\")"
   ]
  }
 ],
 "metadata": {
  "kernelspec": {
   "display_name": "Python 3",
   "language": "python",
   "name": "python3"
  },
  "language_info": {
   "codemirror_mode": {
    "name": "ipython",
    "version": 3
   },
   "file_extension": ".py",
   "mimetype": "text/x-python",
   "name": "python",
   "nbconvert_exporter": "python",
   "pygments_lexer": "ipython3",
   "version": "3.10.6"
  }
 },
 "nbformat": 4,
 "nbformat_minor": 2
}
