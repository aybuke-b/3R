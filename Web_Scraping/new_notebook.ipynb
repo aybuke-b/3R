{
 "cells": [
  {
   "cell_type": "code",
   "execution_count": 2,
   "metadata": {},
   "outputs": [],
   "source": [
    "from script.scraper_functions import *\n",
    "from script.soupifier import *\n",
    "from serde.json import to_json"
   ]
  },
  {
   "cell_type": "markdown",
   "metadata": {},
   "source": [
    "**TODO**:\n",
    "\n",
    "- `ruff` $\\Rightarrow$ linter, à utiliser plus dans le cadre du dvpt\n",
    "- `pytest` avec subprocess.run pour tester le code\n",
    "- `pytest-coverage`\n",
    "- `poetry` avec gestion des dépendances\n",
    "- `black` pour automatiquement indenter, etc.\n",
    "- `doctest` pour tester les exemples des docstrings\n",
    "- `bandit` pour gérer les vulnérabilités\n",
    "\n",
    "***\n",
    "\n",
    "- `yarl` pour travailler avec des URL"
   ]
  },
  {
   "cell_type": "markdown",
   "metadata": {},
   "source": [
    "## Le code ci-dessous lance le `scraper`\n",
    "\n",
    "- Tu peux changer le nombre d'*URL* de **19** à 1 ou 2 pour tester ça prendra beaucoup moins longtemps à générer\n",
    "- Lien [`Darty`](https://www.darty.com/nav/extra/list?seller=311289-0-327183-311290-311291-328771-311452&cat=89054&state=new_offer&persist_sold_by_darty=true) $\\Rightarrow$ en choisissant les produits uniquement vendus par Darty + Neufs on a 567 produits.\n",
    "- Avoir un comparatif Boulanger/Darty pourrait être intéressant\n",
    "- Voir pour récupérer les images des téléphones pour plus tard dans l'appli - voir : https://discuss.streamlit.io/t/add-image-and-header-to-streamlit-dataframe-table/36065/3"
   ]
  },
  {
   "cell_type": "code",
   "execution_count": 4,
   "metadata": {},
   "outputs": [],
   "source": [
    "URL = \"https://boulanger.com/c/nav-filtre/smartphone-telephone-portable?_etat_produit~neuf\""
   ]
  },
  {
   "cell_type": "code",
   "execution_count": 5,
   "metadata": {},
   "outputs": [
    {
     "name": "stdout",
     "output_type": "stream",
     "text": [
      "Page 1 -> Successfull Extraction.\n",
      "Page 2 -> Successfull Extraction.\n",
      "Page 3 -> Successfull Extraction.\n",
      "Page 4 -> Successfull Extraction.\n",
      "Page 5 -> Successfull Extraction.\n",
      "Page 6 -> Successfull Extraction.\n",
      "Page 7 -> Successfull Extraction.\n",
      "Page 8 -> Successfull Extraction.\n",
      "Page 9 -> Successfull Extraction.\n",
      "Page 10 -> Successfull Extraction.\n"
     ]
    },
    {
     "data": {
      "text/html": [
       "<pre style=\"white-space:pre;overflow-x:auto;line-height:normal;font-family:Menlo,'DejaVu Sans Mono',consolas,'Courier New',monospace\"><span style=\"font-style: italic\">Elapsed time</span> for <span style=\"color: #800000; text-decoration-color: #800000; font-weight: bold\">read_pages</span> function: <span style=\"color: #008080; text-decoration-color: #008080; font-weight: bold\">39.687</span> seconds.\n",
       "</pre>\n"
      ],
      "text/plain": [
       "\u001b[3mElapsed time\u001b[0m for \u001b[1;31mread_pages\u001b[0m function: \u001b[1;36m39.687\u001b[0m seconds.\n"
      ]
     },
     "metadata": {},
     "output_type": "display_data"
    }
   ],
   "source": [
    "session = create_session()\n",
    "url_list = create_url_list(URL, 11) #11\n",
    "pages = read_pages(url_list=url_list, session=session)"
   ]
  },
  {
   "cell_type": "code",
   "execution_count": null,
   "metadata": {},
   "outputs": [],
   "source": [
    "all_urls = extract_all_urls(pages)\n",
    "print(\"--------------------\")\n",
    "product_pages = extract_all_pages(all_urls, session)"
   ]
  },
  {
   "cell_type": "code",
   "execution_count": null,
   "metadata": {},
   "outputs": [],
   "source": [
    "all_urls"
   ]
  },
  {
   "cell_type": "markdown",
   "metadata": {},
   "source": [
    "Il faudrait créer une fonction pour la génération de la liste des smartphones + l'export en `json`"
   ]
  },
  {
   "cell_type": "code",
   "execution_count": 8,
   "metadata": {},
   "outputs": [],
   "source": [
    "smartphone_list = list()\n",
    "for article in product_pages:\n",
    "    soup = BeautifulSoup(article, \"html.parser\")\n",
    "    dict_features = extract_features(soup)\n",
    "    smartphone = smartphone_characteristics(dict_features)\n",
    "    smartphone_list.append(smartphone)"
   ]
  },
  {
   "cell_type": "code",
   "execution_count": 9,
   "metadata": {},
   "outputs": [],
   "source": [
    "smartphones_json = to_json(smartphone_list)"
   ]
  },
  {
   "cell_type": "code",
   "execution_count": 10,
   "metadata": {},
   "outputs": [],
   "source": [
    "file_path = \"data/smartphones_2.json\"\n",
    "\n",
    "with open(file_path, \"w\", encoding=\"utf-8\") as json_file:\n",
    "    json_file.write(smartphones_json)"
   ]
  },
  {
   "cell_type": "markdown",
   "metadata": {},
   "source": [
    "## Charge le Dataframe dans `polars`"
   ]
  },
  {
   "cell_type": "code",
   "execution_count": 1,
   "metadata": {},
   "outputs": [],
   "source": [
    "import polars as pl\n",
    "import polars.selectors as cs\n",
    "from script.polars_gazprom import *\n",
    "from itertools import chain"
   ]
  },
  {
   "cell_type": "code",
   "execution_count": 2,
   "metadata": {},
   "outputs": [],
   "source": [
    "df_brut = pl.read_json(\"data/smartphones_2.json\")"
   ]
  },
  {
   "cell_type": "markdown",
   "metadata": {},
   "source": [
    "### Pipeline"
   ]
  },
  {
   "cell_type": "markdown",
   "metadata": {},
   "source": [
    "Sur `535` extractions, il y a `487` téléphones valides."
   ]
  },
  {
   "cell_type": "code",
   "execution_count": 3,
   "metadata": {},
   "outputs": [],
   "source": [
    "df = NordStream(df_brut)"
   ]
  },
  {
   "cell_type": "code",
   "execution_count": 5,
   "metadata": {},
   "outputs": [],
   "source": [
    "from pathlib import Path\n",
    "\n",
    "root = Path(\".\").resolve()\n",
    "data_folder = root / \"data\"\n",
    "path_file = data_folder / \"df_clean_2.csv\""
   ]
  },
  {
   "cell_type": "code",
   "execution_count": 3,
   "metadata": {},
   "outputs": [
    {
     "ename": "NameError",
     "evalue": "name 'df' is not defined",
     "output_type": "error",
     "traceback": [
      "\u001b[1;31m---------------------------------------------------------------------------\u001b[0m",
      "\u001b[1;31mNameError\u001b[0m                                 Traceback (most recent call last)",
      "Cell \u001b[1;32mIn [3], line 1\u001b[0m\n\u001b[1;32m----> 1\u001b[0m \u001b[43mdf\u001b[49m\u001b[38;5;241m.\u001b[39mwrite_csv(path_file, separator\u001b[38;5;241m=\u001b[39m\u001b[38;5;124m\"\u001b[39m\u001b[38;5;124m;\u001b[39m\u001b[38;5;124m\"\u001b[39m)\n\u001b[0;32m      2\u001b[0m \u001b[38;5;28;01mimport\u001b[39;00m \u001b[38;5;21;01mpolars\u001b[39;00m \u001b[38;5;28;01mas\u001b[39;00m \u001b[38;5;21;01mpl\u001b[39;00m\n",
      "\u001b[1;31mNameError\u001b[0m: name 'df' is not defined"
     ]
    }
   ],
   "source": [
    "df.write_csv(path_file, separator=\";\")"
   ]
  },
  {
   "cell_type": "code",
   "execution_count": 2,
   "metadata": {},
   "outputs": [],
   "source": [
    "import polars as pl\n",
    "import plotly.express as px"
   ]
  },
  {
   "cell_type": "code",
   "execution_count": 3,
   "metadata": {},
   "outputs": [],
   "source": [
    "df = pl.read_parquet(\"data/sfa_results_app.parquet\")"
   ]
  },
  {
   "cell_type": "code",
   "execution_count": 32,
   "metadata": {},
   "outputs": [
    {
     "data": {
      "text/html": [
       "<div><style>\n",
       ".dataframe > thead > tr > th,\n",
       ".dataframe > tbody > tr > td {\n",
       "  text-align: right;\n",
       "  white-space: pre-wrap;\n",
       "}\n",
       "</style>\n",
       "<small>shape: (5, 5)</small><table border=\"1\" class=\"dataframe\"><thead><tr><th>price</th><th>ram</th><th>storage</th><th>screen_size</th><th>ppi</th></tr><tr><td>f64</td><td>f64</td><td>f64</td><td>f64</td><td>f64</td></tr></thead><tbody><tr><td>1.0</td><td>0.49409</td><td>0.675877</td><td>0.120186</td><td>0.584822</td></tr><tr><td>0.49409</td><td>1.0</td><td>0.535435</td><td>0.381094</td><td>0.489469</td></tr><tr><td>0.675877</td><td>0.535435</td><td>1.0</td><td>0.209919</td><td>0.360114</td></tr><tr><td>0.120186</td><td>0.381094</td><td>0.209919</td><td>1.0</td><td>-0.027821</td></tr><tr><td>0.584822</td><td>0.489469</td><td>0.360114</td><td>-0.027821</td><td>1.0</td></tr></tbody></table></div>"
      ],
      "text/plain": [
       "shape: (5, 5)\n",
       "┌──────────┬──────────┬──────────┬─────────────┬───────────┐\n",
       "│ price    ┆ ram      ┆ storage  ┆ screen_size ┆ ppi       │\n",
       "│ ---      ┆ ---      ┆ ---      ┆ ---         ┆ ---       │\n",
       "│ f64      ┆ f64      ┆ f64      ┆ f64         ┆ f64       │\n",
       "╞══════════╪══════════╪══════════╪═════════════╪═══════════╡\n",
       "│ 1.0      ┆ 0.49409  ┆ 0.675877 ┆ 0.120186    ┆ 0.584822  │\n",
       "│ 0.49409  ┆ 1.0      ┆ 0.535435 ┆ 0.381094    ┆ 0.489469  │\n",
       "│ 0.675877 ┆ 0.535435 ┆ 1.0      ┆ 0.209919    ┆ 0.360114  │\n",
       "│ 0.120186 ┆ 0.381094 ┆ 0.209919 ┆ 1.0         ┆ -0.027821 │\n",
       "│ 0.584822 ┆ 0.489469 ┆ 0.360114 ┆ -0.027821   ┆ 1.0       │\n",
       "└──────────┴──────────┴──────────┴─────────────┴───────────┘"
      ]
     },
     "execution_count": 32,
     "metadata": {},
     "output_type": "execute_result"
    }
   ],
   "source": [
    "df.select(\"price\", \"ram\", \"storage\", \"screen_size\", \"ppi\").corr()"
   ]
  },
  {
   "cell_type": "code",
   "execution_count": 37,
   "metadata": {},
   "outputs": [
    {
     "data": {
      "text/html": [
       "<div><style>\n",
       ".dataframe > thead > tr > th,\n",
       ".dataframe > tbody > tr > td {\n",
       "  text-align: right;\n",
       "  white-space: pre-wrap;\n",
       "}\n",
       "</style>\n",
       "<small>shape: (11, 10)</small><table border=\"1\" class=\"dataframe\"><thead><tr><th>column</th><th>column_0</th><th>column_1</th><th>column_2</th><th>column_3</th><th>column_4</th><th>column_5</th><th>column_6</th><th>column_7</th><th>column_8</th></tr><tr><td>str</td><td>str</td><td>str</td><td>str</td><td>str</td><td>str</td><td>str</td><td>str</td><td>str</td><td>str</td></tr></thead><tbody><tr><td>&quot;describe&quot;</td><td>&quot;count&quot;</td><td>&quot;null_count&quot;</td><td>&quot;mean&quot;</td><td>&quot;std&quot;</td><td>&quot;min&quot;</td><td>&quot;25%&quot;</td><td>&quot;50%&quot;</td><td>&quot;75%&quot;</td><td>&quot;max&quot;</td></tr><tr><td>&quot;price&quot;</td><td>&quot;432.0&quot;</td><td>&quot;0.0&quot;</td><td>&quot;663.1971990740…</td><td>&quot;484.5014346060…</td><td>&quot;79.0&quot;</td><td>&quot;249.0&quot;</td><td>&quot;499.0&quot;</td><td>&quot;999.0&quot;</td><td>&quot;1999.0&quot;</td></tr><tr><td>&quot;ram&quot;</td><td>&quot;432.0&quot;</td><td>&quot;0.0&quot;</td><td>&quot;7.037037037037…</td><td>&quot;2.922592771678…</td><td>&quot;2.0&quot;</td><td>&quot;4.0&quot;</td><td>&quot;8.0&quot;</td><td>&quot;8.0&quot;</td><td>&quot;16.0&quot;</td></tr><tr><td>&quot;storage&quot;</td><td>&quot;432.0&quot;</td><td>&quot;0.0&quot;</td><td>&quot;228.4814814814…</td><td>&quot;188.7042878181…</td><td>&quot;8.0&quot;</td><td>&quot;128.0&quot;</td><td>&quot;128.0&quot;</td><td>&quot;256.0&quot;</td><td>&quot;1000.0&quot;</td></tr><tr><td>&quot;screen_size&quot;</td><td>&quot;432.0&quot;</td><td>&quot;0.0&quot;</td><td>&quot;6.490092592592…</td><td>&quot;0.343801581394…</td><td>&quot;4.7&quot;</td><td>&quot;6.3&quot;</td><td>&quot;6.6&quot;</td><td>&quot;6.7&quot;</td><td>&quot;7.92&quot;</td></tr><tr><td>&quot;das_head&quot;</td><td>&quot;432.0&quot;</td><td>&quot;0.0&quot;</td><td>&quot;0.864337962962…</td><td>&quot;0.196778643332…</td><td>&quot;0.26&quot;</td><td>&quot;0.76&quot;</td><td>&quot;0.978&quot;</td><td>&quot;0.99&quot;</td><td>&quot;1.301&quot;</td></tr><tr><td>&quot;das_limbs&quot;</td><td>&quot;432.0&quot;</td><td>&quot;0.0&quot;</td><td>&quot;2.607499999999…</td><td>&quot;0.510668798547…</td><td>&quot;0.86&quot;</td><td>&quot;2.25&quot;</td><td>&quot;2.596&quot;</td><td>&quot;2.98&quot;</td><td>&quot;3.8&quot;</td></tr><tr><td>&quot;das_chest&quot;</td><td>&quot;432.0&quot;</td><td>&quot;0.0&quot;</td><td>&quot;1.114560185185…</td><td>&quot;0.236313166883…</td><td>&quot;0.189&quot;</td><td>&quot;0.98&quot;</td><td>&quot;0.998&quot;</td><td>&quot;1.29&quot;</td><td>&quot;1.73&quot;</td></tr><tr><td>&quot;ppi&quot;</td><td>&quot;432.0&quot;</td><td>&quot;0.0&quot;</td><td>&quot;413.9076893594…</td><td>&quot;71.53102891961…</td><td>&quot;261.8711904413…</td><td>&quot;396.4935063676…</td><td>&quot;411.2196037398…</td><td>&quot;457.2543463119…</td><td>&quot;722.2646459286…</td></tr><tr><td>&quot;battery&quot;</td><td>&quot;432.0&quot;</td><td>&quot;0.0&quot;</td><td>&quot;4552.643518518…</td><td>&quot;688.2921651774…</td><td>&quot;1810.0&quot;</td><td>&quot;4300.0&quot;</td><td>&quot;5000.0&quot;</td><td>&quot;5000.0&quot;</td><td>&quot;6000.0&quot;</td></tr><tr><td>&quot;repairability_…</td><td>&quot;432.0&quot;</td><td>&quot;1.0&quot;</td><td>&quot;7.620185614849…</td><td>&quot;0.729278689752…</td><td>&quot;4.6&quot;</td><td>&quot;7.3&quot;</td><td>&quot;7.7&quot;</td><td>&quot;8.2&quot;</td><td>&quot;8.8&quot;</td></tr></tbody></table></div>"
      ],
      "text/plain": [
       "shape: (11, 10)\n",
       "┌───────────┬──────────┬───────────┬───────────┬───┬───────────┬───────────┬───────────┬───────────┐\n",
       "│ column    ┆ column_0 ┆ column_1  ┆ column_2  ┆ … ┆ column_5  ┆ column_6  ┆ column_7  ┆ column_8  │\n",
       "│ ---       ┆ ---      ┆ ---       ┆ ---       ┆   ┆ ---       ┆ ---       ┆ ---       ┆ ---       │\n",
       "│ str       ┆ str      ┆ str       ┆ str       ┆   ┆ str       ┆ str       ┆ str       ┆ str       │\n",
       "╞═══════════╪══════════╪═══════════╪═══════════╪═══╪═══════════╪═══════════╪═══════════╪═══════════╡\n",
       "│ describe  ┆ count    ┆ null_coun ┆ mean      ┆ … ┆ 25%       ┆ 50%       ┆ 75%       ┆ max       │\n",
       "│           ┆          ┆ t         ┆           ┆   ┆           ┆           ┆           ┆           │\n",
       "│ price     ┆ 432.0    ┆ 0.0       ┆ 663.19719 ┆ … ┆ 249.0     ┆ 499.0     ┆ 999.0     ┆ 1999.0    │\n",
       "│           ┆          ┆           ┆ 90740741  ┆   ┆           ┆           ┆           ┆           │\n",
       "│ ram       ┆ 432.0    ┆ 0.0       ┆ 7.0370370 ┆ … ┆ 4.0       ┆ 8.0       ┆ 8.0       ┆ 16.0      │\n",
       "│           ┆          ┆           ┆ 37037037  ┆   ┆           ┆           ┆           ┆           │\n",
       "│ storage   ┆ 432.0    ┆ 0.0       ┆ 228.48148 ┆ … ┆ 128.0     ┆ 128.0     ┆ 256.0     ┆ 1000.0    │\n",
       "│           ┆          ┆           ┆ 14814815  ┆   ┆           ┆           ┆           ┆           │\n",
       "│ …         ┆ …        ┆ …         ┆ …         ┆ … ┆ …         ┆ …         ┆ …         ┆ …         │\n",
       "│ das_chest ┆ 432.0    ┆ 0.0       ┆ 1.1145601 ┆ … ┆ 0.98      ┆ 0.998     ┆ 1.29      ┆ 1.73      │\n",
       "│           ┆          ┆           ┆ 851851854 ┆   ┆           ┆           ┆           ┆           │\n",
       "│ ppi       ┆ 432.0    ┆ 0.0       ┆ 413.90768 ┆ … ┆ 396.49350 ┆ 411.21960 ┆ 457.25434 ┆ 722.26464 │\n",
       "│           ┆          ┆           ┆ 93594537  ┆   ┆ 63676529  ┆ 37398995  ┆ 63119592  ┆ 59286225  │\n",
       "│ battery   ┆ 432.0    ┆ 0.0       ┆ 4552.6435 ┆ … ┆ 4300.0    ┆ 5000.0    ┆ 5000.0    ┆ 6000.0    │\n",
       "│           ┆          ┆           ┆ 18518518  ┆   ┆           ┆           ┆           ┆           │\n",
       "│ repairabi ┆ 432.0    ┆ 1.0       ┆ 7.6201856 ┆ … ┆ 7.3       ┆ 7.7       ┆ 8.2       ┆ 8.8       │\n",
       "│ lity_inde ┆          ┆           ┆ 14849189  ┆   ┆           ┆           ┆           ┆           │\n",
       "│ x         ┆          ┆           ┆           ┆   ┆           ┆           ┆           ┆           │\n",
       "└───────────┴──────────┴───────────┴───────────┴───┴───────────┴───────────┴───────────┴───────────┘"
      ]
     },
     "execution_count": 37,
     "metadata": {},
     "output_type": "execute_result"
    }
   ],
   "source": [
    "df.select(\n",
    "    pl.col(\n",
    "        \"price\", \"ram\", \"storage\", \"screen_size\",\n",
    "        \"das_head\", \"das_limbs\", \"das_chest\", \"ppi\",\n",
    "        \"battery\", \"repairability_index\"\n",
    "    )\n",
    ").describe().transpose(include_header=True)"
   ]
  },
  {
   "cell_type": "code",
   "execution_count": 9,
   "metadata": {},
   "outputs": [
    {
     "data": {
      "text/html": [
       "<div><style>\n",
       ".dataframe > thead > tr > th,\n",
       ".dataframe > tbody > tr > td {\n",
       "  text-align: right;\n",
       "  white-space: pre-wrap;\n",
       "}\n",
       "</style>\n",
       "<small>shape: (1, 1)</small><table border=\"1\" class=\"dataframe\"><thead><tr><th>price</th></tr><tr><td>f64</td></tr></thead><tbody><tr><td>484.501435</td></tr></tbody></table></div>"
      ],
      "text/plain": [
       "shape: (1, 1)\n",
       "┌────────────┐\n",
       "│ price      │\n",
       "│ ---        │\n",
       "│ f64        │\n",
       "╞════════════╡\n",
       "│ 484.501435 │\n",
       "└────────────┘"
      ]
     },
     "execution_count": 9,
     "metadata": {},
     "output_type": "execute_result"
    }
   ],
   "source": [
    "df.select(pl.col(\"price\").std())"
   ]
  },
  {
   "cell_type": "code",
   "execution_count": 30,
   "metadata": {},
   "outputs": [],
   "source": [
    "ctx = pl.SQLContext()"
   ]
  },
  {
   "cell_type": "code",
   "execution_count": 41,
   "metadata": {},
   "outputs": [
    {
     "data": {
      "text/plain": [
       "4.0"
      ]
     },
     "execution_count": 41,
     "metadata": {},
     "output_type": "execute_result"
    }
   ],
   "source": [
    "ctx.register(\"df\", df).execute(\n",
    "    \"SELECT ram FROM df WHERE model = 'iPhone 14 Plus' AND color = 'Jaune' \"\n",
    "    ).collect().item()"
   ]
  },
  {
   "cell_type": "code",
   "execution_count": 31,
   "metadata": {},
   "outputs": [
    {
     "data": {
      "text/plain": [
       "85"
      ]
     },
     "execution_count": 31,
     "metadata": {},
     "output_type": "execute_result"
    }
   ],
   "source": [
    "df.filter(pl.col(\"efficiency\") < 0.8).select(pl.col(\"model\").count()).item()"
   ]
  },
  {
   "cell_type": "code",
   "execution_count": 1,
   "metadata": {},
   "outputs": [
    {
     "ename": "NameError",
     "evalue": "name 'df' is not defined",
     "output_type": "error",
     "traceback": [
      "\u001b[1;31m---------------------------------------------------------------------------\u001b[0m",
      "\u001b[1;31mNameError\u001b[0m                                 Traceback (most recent call last)",
      "Cell \u001b[1;32mIn [1], line 1\u001b[0m\n\u001b[1;32m----> 1\u001b[0m \u001b[43mdf\u001b[49m\u001b[38;5;241m.\u001b[39mselect(pl\u001b[38;5;241m.\u001b[39mcorr(\u001b[38;5;124m\"\u001b[39m\u001b[38;5;124mram\u001b[39m\u001b[38;5;124m\"\u001b[39m, \u001b[38;5;124m\"\u001b[39m\u001b[38;5;124mstorage\u001b[39m\u001b[38;5;124m\"\u001b[39m))\n",
      "\u001b[1;31mNameError\u001b[0m: name 'df' is not defined"
     ]
    }
   ],
   "source": [
    "df.select(pl.corr(\"ram\", \"storage\"))"
   ]
  },
  {
   "cell_type": "code",
   "execution_count": 78,
   "metadata": {},
   "outputs": [],
   "source": [
    "fig_ram = px.box(df_ram, x=\"ram_fmt\", y=\"price\", points=\"all\")"
   ]
  },
  {
   "cell_type": "code",
   "execution_count": 77,
   "metadata": {},
   "outputs": [
    {
     "name": "stdout",
     "output_type": "stream",
     "text": [
      "box\n"
     ]
    }
   ],
   "source": [
    "for trace in fig_ram.data:\n",
    "    print(trace.type)"
   ]
  },
  {
   "cell_type": "code",
   "execution_count": null,
   "metadata": {},
   "outputs": [],
   "source": [
    "import polars as pl\n",
    "from pathlib import Path\n",
    "from script.polars_gazprom import NordStream\n",
    "\n",
    "root = Path(\".\").resolve()\n",
    "data_folder = root / \"data\"\n",
    "phones = data_folder / \"smartphones.json\"\n",
    "\n",
    "df_brut = pl.read_json(phones)\n",
    "\n",
    "df = NordStream(df_brut)"
   ]
  },
  {
   "cell_type": "code",
   "execution_count": 3,
   "metadata": {},
   "outputs": [],
   "source": [
    "from IPython.display import IFrame\n",
    "\n",
    "<iframe frameborder=\"0\" height=\"480\" width=\"640\" allowFullScreen webkitallowfullscreen=\"true\" mozallowfullscreen=\"true\" onmousewheel=\"\" src=\"https://www.mecabricks.com/en/player/1w2r09DVv8W\"></iframe>"
   ]
  },
  {
   "cell_type": "code",
   "execution_count": 12,
   "metadata": {},
   "outputs": [
    {
     "data": {
      "text/html": [
       "\n",
       "        <iframe\n",
       "            width=\"600\"\n",
       "            height=\"300\"\n",
       "            src=\"https://www.mecabricks.com/en/player/1w2r09DVv8W?frameborder=0\"\n",
       "            frameborder=\"0\"\n",
       "            allowfullscreen\n",
       "            \n",
       "        ></iframe>\n",
       "        "
      ],
      "text/plain": [
       "<IPython.lib.display.IFrame at 0x193d8f3f340>"
      ]
     },
     "execution_count": 12,
     "metadata": {},
     "output_type": "execute_result"
    }
   ],
   "source": [
    "IFrame(\n",
    "    \"https://www.mecabricks.com/en/player/1w2r09DVv8W\",\n",
    "    width=600,\n",
    "    height=300,\n",
    "    frameborder =0\n",
    ")"
   ]
  }
 ],
 "metadata": {
  "kernelspec": {
   "display_name": "Python 3",
   "language": "python",
   "name": "python3"
  },
  "language_info": {
   "codemirror_mode": {
    "name": "ipython",
    "version": 3
   },
   "file_extension": ".py",
   "mimetype": "text/x-python",
   "name": "python",
   "nbconvert_exporter": "python",
   "pygments_lexer": "ipython3",
   "version": "3.10.6"
  }
 },
 "nbformat": 4,
 "nbformat_minor": 2
}
